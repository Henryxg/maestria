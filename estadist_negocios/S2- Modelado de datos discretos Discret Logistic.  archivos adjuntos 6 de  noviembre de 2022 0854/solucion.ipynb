{
 "cells": [
  {
   "cell_type": "code",
   "execution_count": 12,
   "metadata": {},
   "outputs": [],
   "source": [
    "import pandas as pd\n",
    "import seaborn as sns\n",
    "from scipy.stats import poisson\n",
    "import numpy as np\n",
    "import matplotlib.pyplot as plt\n",
    "import pandas as pd\n",
    "\n",
    "from scipy.special import factorial\n",
    "\n",
    "\n",
    "\n",
    "data = pd.read_csv(\"https://raw.githubusercontent.com/marsgr6/EN-online/8a1cee296279c274d8f05f3905fce97c1f7636a2/data/DL_data.csv\")"
   ]
  },
  {
   "cell_type": "markdown",
   "metadata": {},
   "source": [
    "1. (1 pt) Cuál es la distribución del grado de los centro logísticos."
   ]
  },
  {
   "cell_type": "code",
   "execution_count": 11,
   "metadata": {},
   "outputs": [
    {
     "data": {
      "image/png": "[encoded data removed]",
      "text/plain": [
       "<Figure size 432x288 with 1 Axes>"
      ]
     },
     "metadata": {
      "needs_background": "light"
     },
     "output_type": "display_data"
    }
   ],
   "source": [
    "muestra = data['Enlaces']\n",
    "l= 5\n",
    "x, fx = np.unique(muestra, return_counts=True)\n",
    "plt.bar(x, fx/fx.sum())\n",
    "\n",
    "#Vamos a graficar la distribución teórica (curva PMF en rojo) \n",
    "#para los valores observados (barras azules) \n",
    "#en la muestra: entre min(x) y max(x)\n",
    "x_t = np.arange(x.min(), x.max()+1)\n",
    "plt.plot(x_t, poisson.pmf(x_t, l), ':or')\n",
    "plt.title(\"PMF\")\n",
    "plt.xticks(x_t)\n",
    "plt.legend([\"Grado Teorico, Poisson ($\\lambda=5$)\", \"Gado obsevado\"], loc =\"upper right\")\n",
    "t=plt.xticks(x_t)"
   ]
  },
  {
   "cell_type": "markdown",
   "metadata": {},
   "source": [
    "2. (2 pt) Cuál es la probabilidad de que un centro cualquiera tenga 3 o menos conexiones."
   ]
  },
  {
   "cell_type": "markdown",
   "metadata": {},
   "source": [
    "$X$: cuenta el número de conexiones de un centro.\n",
    "- Tenemos que $X\\sim Poiss(\\lambda=5)$ describe nuestra variable aleatoria.\n",
    "\n",
    "- La probalidad de que un centro tenga 3 o menos conexiones, $P(X \\leq 3)$, seria igual a $P( X =1 ) +P( X =2 )+P( X =3 )$. \n",
    "\n",
    "Deacuerdo con los valores obsevados tenemos que $P( X =1 )= 0.02, P( X =2 )=0.04 ,P( X =3 )= 0.24$, entonces la provabilidad segun los valores obsevados sera igual al 14%.\n",
    "\n",
    "De acuerdo a la distribución de Poisson X-Poisson($\\lambda=5$), tenemos que $P( X =1 )\\approx 0.033, P( X =2 )\\approx0.084,P( X =3 )\\approx 0.140$, entonces la provabilidad segun los valores obsevados sera aproximadamente igual al 14%."
   ]
  },
  {
   "cell_type": "code",
   "execution_count": 76,
   "metadata": {},
   "outputs": [
    {
     "name": "stdout",
     "output_type": "stream",
     "text": [
      "Probalidad de que un centro tenga 3 o menos conexiones (segun valores observados es):  0.14\n",
      "Probalidad de que un centro tenga 3 o menos conexiones (segun valores observados es):  0.25828796829827616\n"
     ]
    }
   ],
   "source": [
    "#solucion pregunta 2\n",
    "muestra = data['Enlaces']\n",
    "l= 5\n",
    "x, fx = np.unique(muestra, return_counts=True)\n",
    "p_obs= fx/sum(fx)\n",
    "print( \"Probalidad de que un centro tenga 3 o menos conexiones (segun valores observados es):  \"+ str(sum(p_obs[:3])))\n",
    "#valores segun la funcion de python\n",
    "p_poiss=sum(poisson.pmf(x_t[:3] , l))\n",
    "print( \"Probalidad de que un centro tenga 3 o menos conexiones (segun valores observados es):  \"+ str(p_poiss))\n",
    "\n"
   ]
  },
  {
   "cell_type": "markdown",
   "metadata": {},
   "source": [
    "3. (1 pt) Cuál es la probabilidad de que un nodo tenga entre 4 y 6 conexiones."
   ]
  },
  {
   "cell_type": "markdown",
   "metadata": {},
   "source": [
    "La probabilida de que un nodo tenga entre 4 y 6 conexiones es \n",
    "Usando la CDF de poison\n",
    "$$p(4\\leq X \\leq 6) = p(X=4)+p(X= 5)+p(X=6)$$\n",
    "Usando la implementación en Python de Poisson tenemos que la probabilidad es igual a un 50%."
   ]
  },
  {
   "cell_type": "code",
   "execution_count": 82,
   "metadata": {},
   "outputs": [
    {
     "name": "stdout",
     "output_type": "stream",
     "text": [
      "Probalidad de que un centro tenga entre 4 y 6 conexiones es :  0.49715754767557674\n"
     ]
    }
   ],
   "source": [
    "#solucion pregunta 3\n",
    "p_poiss=sum(poisson.pmf(x_t[3:6] , l))\n",
    "print( \"Probalidad de que un centro tenga entre 4 y 6 conexiones es :  \"+ str(p_poiss))\n"
   ]
  },
  {
   "cell_type": "markdown",
   "metadata": {},
   "source": [
    "4. (1 pt) Replique el histograma acumulado y la función de distribución acumulada para la distritución de Poisson:"
   ]
  },
  {
   "cell_type": "code",
   "execution_count": 37,
   "metadata": {},
   "outputs": [
    {
     "data": {
      "image/png": "[encoded data removed]",
      "text/plain": [
       "<Figure size 432x288 with 1 Axes>"
      ]
     },
     "metadata": {
      "needs_background": "light"
     },
     "output_type": "display_data"
    }
   ],
   "source": [
    "muestra = data['Enlaces']\n",
    "l= 5\n",
    "x, fx = np.unique(muestra, return_counts=True)\n",
    "plt.bar(x, (fx/fx.sum()).cumsum())\n",
    "\n",
    "#Vamos a graficar la distribución acumulada teórica (curva CDF en rojo) \n",
    "#para los valores observados (barras azules) \n",
    "#en la muestra: entre min(x) y max(x)\n",
    "plt.plot(x_t, poisson.cdf(x_t, l), ':or')\n",
    "plt.title(\"CDF\")\n",
    "plt.legend([\"Grado Teorico, Poisson ($\\lambda=5$)\", \"Gado obsevado\"], loc =\"upper right\")\n",
    "t=plt.xticks(x_t)"
   ]
  },
  {
   "cell_type": "markdown",
   "metadata": {},
   "source": [
    "5. (2 pt) Responda usando la CDF:\n",
    "- 1- Cuál es la probabilidad de que un centro cualquiera tenga 3 o menos conexiones.\n",
    "\n",
    " $X$: cuenta el número de conexiones de un centro.\n",
    "- Tenemos que $X\\sim Poiss(\\lambda=5)$ describe nuestra variable aleatoria.\n",
    "\n",
    "- Por lo tanto usando la CDF de poison tenemos que \n",
    "$$P(X \\leq 3) = \\sum_{x=1}^{3} \\frac{e^{-\\lambda} \\lambda^x}{x!}.$$\n",
    "- Remplazando $\\lambda =5$, se concluye que la probalidad de que un centro tenga 3 o menos conexiones es 25.8%\n",
    "$$\\sum_{x=0}^{3} \\frac{e^{-5} 5^x}{x!}  \\approx 0.258$$\n",
    "\n",
    "\n",
    "\n"
   ]
  },
  {
   "cell_type": "markdown",
   "metadata": {},
   "source": [
    "- 2.  Cuál es la probabilidad de que un nodo tenga entre 4 y 6 conexiones.\n",
    "La probabilida de que un nodo tenga entre 4 y 6 conexiones es 50 %\n",
    "Usando la CDF de poison\n",
    "$$p(4\\leq X \\leq 6) = \\sum_{x=4}^{6} \\frac{e^{-\\lambda} \\lambda^x}{x!}$$\n",
    "donde $\\lambda= 5$, tenemos que \n",
    "$$\\sum_{x=4}^{6} \\frac{e^{- 5} 5^x}{x!}\\approx 0.4971$$"
   ]
  },
  {
   "cell_type": "code",
   "execution_count": 137,
   "metadata": {},
   "outputs": [
    {
     "name": "stdout",
     "output_type": "stream",
     "text": [
      "Evaluando la PMF: 0.006737946999085467\n",
      "Evaluando la PMF: 0.497157547675577\n"
     ]
    }
   ],
   "source": [
    "\n",
    "#solucion pregunta 5.1\n",
    "def poisson_pmf(x, l):\n",
    "    x = np.array(x)\n",
    "    return np.exp(-l)*l**(x) / factorial(x)\n",
    "l = 5\n",
    "\n",
    "x = np.arange(1)\n",
    "\n",
    "print(\"Evaluando la PMF:\", poisson_pmf(x, l).sum())\n",
    "\n",
    "#solucion pregunta 5.2\n",
    "x = np.arange(3)+4\n",
    "print(\"Evaluando la PMF:\", poisson_pmf(x, l).sum())\n"
   ]
  },
  {
   "cell_type": "markdown",
   "metadata": {},
   "source": [
    "6. (1 pt) Calcule el valor esperado y varianza de la distribución analítica, compare con la media y varianza muestral.\n",
    "\n",
    "- El valor teorico de la media y la varianza es igual a $\\lambda= 5$\n",
    "- Por definicion el valor esperado de una variable aleatoria esta dado por\n",
    "$$ E[X]= \\sum_{x=1}^{11} x_i f(x_i) \\approx 4.93 $$\n",
    "- La varianza se define como\n",
    "$$ E[(X-E[x])^2]= \\sum_{x=1}^{11} (x_i - E[x])^2f(x_i)  $$\n",
    "ya que $E[X]\\approx 4.93$ concluimos que \n",
    "$$\\sigma^2= 4.519$$\n",
    "\n",
    "- La media y la varianza de la muestra es:\n",
    "$$\\mu = 5.2$$\n",
    "$$\\sigma^2 = 3.879 $$\n",
    "\n",
    "- Los valores obtenidos de la media y la varianza  se aproxima a los valores analiticos, a pesar que la muestra es pequeña nos valores de la media si se aproxima al valor esperado (tanto teorico como analico). La varianza es un valor un poco ajeno  a 5. Sin embargo, considerando el tamaño de la muestra considero que es una buena aproximación.\n"
   ]
  },
  {
   "cell_type": "code",
   "execution_count": 157,
   "metadata": {},
   "outputs": [
    {
     "name": "stdout",
     "output_type": "stream",
     "text": [
      "Valor esperado (analitico): 4.931523657008082\n",
      "Varianza (analitico): 4.5194114856420375\n",
      "Media de la muestra: 5.28\n",
      "Varianza de la muestra: 3.879183673469385\n"
     ]
    }
   ],
   "source": [
    "# Valor esperado y varianza de la distribución analítica\n",
    "\n",
    "x=np.array(range(11))+1\n",
    "y=poisson.pmf(x, l)\n",
    "ex=sum(x*y)\n",
    "vari= sum((x-ex)**2 *y)\n",
    "print(\"Valor esperado (analitico):\", ex)\n",
    "print(\"Varianza (analitico):\", vari)\n",
    "muestra = data['Enlaces']\n",
    "l= 5\n",
    "x, fx = np.unique(muestra, return_counts=True)\n",
    "\n",
    "print(\"Media de la muestra:\", muestra.mean())\n",
    "print(\"Varianza de la muestra:\", muestra.var())\n",
    "\n"
   ]
  },
  {
   "cell_type": "markdown",
   "metadata": {},
   "source": [
    "7. (2 pt) Discuta qué tan adecuada considera esta distribución para modelar nuestros datos observados.\n",
    "- Considero que es una buena aproximacion para la muestra estudiada ya que graficamente al igual que los estimadores se aproximan mucho a los valores analicos. El valor de lambda obtenido de la teoria de grafos realmente modela los datos estudiados."
   ]
  }
 ],
 "metadata": {
  "interpreter": {
   "hash": "c629e06671d42d262ce370bbb00ab382667744bfebe13cb1c7262c94987f6270"
  },
  "kernelspec": {
   "display_name": "Python 3.9.12 ('base')",
   "language": "python",
   "name": "python3"
  },
  "language_info": {
   "codemirror_mode": {
    "name": "ipython",
    "version": 3
   },
   "file_extension": ".py",
   "mimetype": "text/x-python",
   "name": "python",
   "nbconvert_exporter": "python",
   "pygments_lexer": "ipython3",
   "version": "3.9.12"
  },
  "orig_nbformat": 4
 },
 "nbformat": 4,
 "nbformat_minor": 2
}
