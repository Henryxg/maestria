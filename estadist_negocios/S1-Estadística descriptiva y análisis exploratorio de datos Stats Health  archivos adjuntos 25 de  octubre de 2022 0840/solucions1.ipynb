{
 "cells": [
  {
   "cell_type": "code",
   "execution_count": 1,
   "metadata": {},
   "outputs": [],
   "source": [
    "import pandas as pd\n",
    "import numpy as np\n",
    "import matplotlib.pyplot as plt\n",
    "import seaborn as sns"
   ]
  },
  {
   "cell_type": "code",
   "execution_count": 2,
   "metadata": {},
   "outputs": [],
   "source": [
    "data = pd.read_csv(\"https://raw.githubusercontent.com/marsgr6/EN-online/8a1cee296279c274d8f05f3905fce97c1f7636a2/data/UX_data.csv\")"
   ]
  },
  {
   "cell_type": "code",
   "execution_count": 5,
   "metadata": {},
   "outputs": [
    {
     "name": "stdout",
     "output_type": "stream",
     "text": [
      "<class 'pandas.core.frame.DataFrame'>\n",
      "RangeIndex: 30 entries, 0 to 29\n",
      "Data columns (total 8 columns):\n",
      " #   Column  Non-Null Count  Dtype  \n",
      "---  ------  --------------  -----  \n",
      " 0   SUS     30 non-null     float64\n",
      " 1   Time    30 non-null     float64\n",
      " 2   ID      30 non-null     object \n",
      " 3   Gender  30 non-null     object \n",
      " 4   Age     30 non-null     object \n",
      " 5   Kinect  30 non-null     object \n",
      " 6   NUI     30 non-null     object \n",
      " 7   Games   30 non-null     object \n",
      "dtypes: float64(2), object(6)\n",
      "memory usage: 2.0+ KB\n"
     ]
    }
   ],
   "source": [
    "Solucion pregunta 1"
   ]
  },
  {
   "cell_type": "markdown",
   "metadata": {},
   "source": [
    "Solucion pregunta 1.\n",
    "data.info()  Usando la funcion info() podemos obsever todas las variables numericas en este caso: SUS y Time son float"
   ]
  },
  {
   "cell_type": "code",
   "execution_count": 8,
   "metadata": {},
   "outputs": [
    {
     "name": "stdout",
     "output_type": "stream",
     "text": [
      "<class 'pandas.core.frame.DataFrame'>\n",
      "RangeIndex: 30 entries, 0 to 29\n",
      "Data columns (total 8 columns):\n",
      " #   Column  Non-Null Count  Dtype  \n",
      "---  ------  --------------  -----  \n",
      " 0   SUS     30 non-null     float64\n",
      " 1   Time    30 non-null     float64\n",
      " 2   ID      30 non-null     object \n",
      " 3   Gender  30 non-null     object \n",
      " 4   Age     30 non-null     object \n",
      " 5   Kinect  30 non-null     object \n",
      " 6   NUI     30 non-null     object \n",
      " 7   Games   30 non-null     object \n",
      "dtypes: float64(2), object(6)\n",
      "memory usage: 2.0+ KB\n"
     ]
    },
    {
     "data": {
      "text/html": [
       "<div>\n",
       "<style scoped>\n",
       "    .dataframe tbody tr th:only-of-type {\n",
       "        vertical-align: middle;\n",
       "    }\n",
       "\n",
       "    .dataframe tbody tr th {\n",
       "        vertical-align: top;\n",
       "    }\n",
       "\n",
       "    .dataframe thead th {\n",
       "        text-align: right;\n",
       "    }\n",
       "</style>\n",
       "<table border=\"1\" class=\"dataframe\">\n",
       "  <thead>\n",
       "    <tr style=\"text-align: right;\">\n",
       "      <th></th>\n",
       "      <th>SUS</th>\n",
       "      <th>Time</th>\n",
       "    </tr>\n",
       "  </thead>\n",
       "  <tbody>\n",
       "    <tr>\n",
       "      <th>count</th>\n",
       "      <td>30.000000</td>\n",
       "      <td>30.000000</td>\n",
       "    </tr>\n",
       "    <tr>\n",
       "      <th>mean</th>\n",
       "      <td>76.083333</td>\n",
       "      <td>157.500000</td>\n",
       "    </tr>\n",
       "    <tr>\n",
       "      <th>std</th>\n",
       "      <td>14.616997</td>\n",
       "      <td>22.399415</td>\n",
       "    </tr>\n",
       "    <tr>\n",
       "      <th>min</th>\n",
       "      <td>40.000000</td>\n",
       "      <td>112.700000</td>\n",
       "    </tr>\n",
       "    <tr>\n",
       "      <th>25%</th>\n",
       "      <td>68.125000</td>\n",
       "      <td>140.025000</td>\n",
       "    </tr>\n",
       "    <tr>\n",
       "      <th>50%</th>\n",
       "      <td>78.750000</td>\n",
       "      <td>159.700000</td>\n",
       "    </tr>\n",
       "    <tr>\n",
       "      <th>75%</th>\n",
       "      <td>87.500000</td>\n",
       "      <td>177.050000</td>\n",
       "    </tr>\n",
       "    <tr>\n",
       "      <th>max</th>\n",
       "      <td>95.000000</td>\n",
       "      <td>188.300000</td>\n",
       "    </tr>\n",
       "  </tbody>\n",
       "</table>\n",
       "</div>"
      ],
      "text/plain": [
       "             SUS        Time\n",
       "count  30.000000   30.000000\n",
       "mean   76.083333  157.500000\n",
       "std    14.616997   22.399415\n",
       "min    40.000000  112.700000\n",
       "25%    68.125000  140.025000\n",
       "50%    78.750000  159.700000\n",
       "75%    87.500000  177.050000\n",
       "max    95.000000  188.300000"
      ]
     },
     "execution_count": 8,
     "metadata": {},
     "output_type": "execute_result"
    }
   ],
   "source": [
    "data.info()\n",
    "\n",
    "data[['SUS','Time']].describe() #escogemos aquellos valores que son numericos y usando la funcion describe obtenemos el resultado."
   ]
  },
  {
   "cell_type": "markdown",
   "metadata": {},
   "source": [
    "Interpretacion de los cuartiles.\n",
    "SUS:\n",
    "Los cuartiles obtenidos dividen a la muestra en cuatro partes, el primer cuartil significa que 25% de los datos es menor o igual a 68.18. En nuestro estudio significa que el 25% de los individuos calificaron la usabilidad de ePHoRt con un valor menor o igual a 68.18.\n",
    "\n",
    "El tercer cuartil nos informa que un 25% de los individuos dieron una calificacion mayor o igual a 87.5.\n",
    "\n",
    "Ademas poemos apreciar que en la usabilidad del sistema la mediana es de 78.5 y esta muy cerca de la media. Basandome en la devivacion standar(14.61), los datos tienen un distribucion normal.\n",
    "\n",
    "\n",
    "Time:(tiempo de ralizacion de las tareas)\n",
    "\n",
    "En el tiempo utilizado para realizar las tareas podemos aprecias que a la mitad de la poblacion le tomo entre 78.75 y 95 en completar el trabajo. Ademas el 25% de los individuos duraron menos de 68.125, siendo el mejor tiempo de 40 y el maximo de 95.\n",
    "\n",
    "\n"
   ]
  },
  {
   "cell_type": "markdown",
   "metadata": {},
   "source": [
    "2. (1 pt) Variables categóricas:"
   ]
  },
  {
   "cell_type": "code",
   "execution_count": 11,
   "metadata": {},
   "outputs": [
    {
     "data": {
      "text/plain": [
       "twenty    17\n",
       "thirty     7\n",
       "forty      6\n",
       "Name: Age, dtype: int64"
      ]
     },
     "execution_count": 11,
     "metadata": {},
     "output_type": "execute_result"
    }
   ],
   "source": [
    "data['ID'].value_counts()\n",
    "data['Gender'].value_counts()\n",
    "data['Age'].value_counts()"
   ]
  },
  {
   "cell_type": "markdown",
   "metadata": {},
   "source": [
    "3. (1 pt) Descripción de variables numéricas agrupadas:"
   ]
  },
  {
   "cell_type": "code",
   "execution_count": 18,
   "metadata": {},
   "outputs": [
    {
     "name": "stderr",
     "output_type": "stream",
     "text": [
      "/tmp/ipykernel_8357/1356082860.py:1: FutureWarning: Indexing with multiple keys (implicitly converted to a tuple of keys) will be deprecated, use a list instead.\n",
      "  data.groupby('Gender')['SUS','Time'].describe()\n"
     ]
    },
    {
     "data": {
      "text/html": [
       "<div>\n",
       "<style scoped>\n",
       "    .dataframe tbody tr th:only-of-type {\n",
       "        vertical-align: middle;\n",
       "    }\n",
       "\n",
       "    .dataframe tbody tr th {\n",
       "        vertical-align: top;\n",
       "    }\n",
       "\n",
       "    .dataframe thead tr th {\n",
       "        text-align: left;\n",
       "    }\n",
       "\n",
       "    .dataframe thead tr:last-of-type th {\n",
       "        text-align: right;\n",
       "    }\n",
       "</style>\n",
       "<table border=\"1\" class=\"dataframe\">\n",
       "  <thead>\n",
       "    <tr>\n",
       "      <th></th>\n",
       "      <th colspan=\"8\" halign=\"left\">SUS</th>\n",
       "      <th colspan=\"8\" halign=\"left\">Time</th>\n",
       "    </tr>\n",
       "    <tr>\n",
       "      <th></th>\n",
       "      <th>count</th>\n",
       "      <th>mean</th>\n",
       "      <th>std</th>\n",
       "      <th>min</th>\n",
       "      <th>25%</th>\n",
       "      <th>50%</th>\n",
       "      <th>75%</th>\n",
       "      <th>max</th>\n",
       "      <th>count</th>\n",
       "      <th>mean</th>\n",
       "      <th>std</th>\n",
       "      <th>min</th>\n",
       "      <th>25%</th>\n",
       "      <th>50%</th>\n",
       "      <th>75%</th>\n",
       "      <th>max</th>\n",
       "    </tr>\n",
       "    <tr>\n",
       "      <th>Gender</th>\n",
       "      <th></th>\n",
       "      <th></th>\n",
       "      <th></th>\n",
       "      <th></th>\n",
       "      <th></th>\n",
       "      <th></th>\n",
       "      <th></th>\n",
       "      <th></th>\n",
       "      <th></th>\n",
       "      <th></th>\n",
       "      <th></th>\n",
       "      <th></th>\n",
       "      <th></th>\n",
       "      <th></th>\n",
       "      <th></th>\n",
       "      <th></th>\n",
       "    </tr>\n",
       "  </thead>\n",
       "  <tbody>\n",
       "    <tr>\n",
       "      <th>F</th>\n",
       "      <td>10.0</td>\n",
       "      <td>74.000</td>\n",
       "      <td>17.328525</td>\n",
       "      <td>40.0</td>\n",
       "      <td>66.250</td>\n",
       "      <td>77.5</td>\n",
       "      <td>87.5</td>\n",
       "      <td>92.5</td>\n",
       "      <td>10.0</td>\n",
       "      <td>172.190</td>\n",
       "      <td>15.656341</td>\n",
       "      <td>144.0</td>\n",
       "      <td>165.975</td>\n",
       "      <td>175.50</td>\n",
       "      <td>184.75</td>\n",
       "      <td>188.3</td>\n",
       "    </tr>\n",
       "    <tr>\n",
       "      <th>M</th>\n",
       "      <td>20.0</td>\n",
       "      <td>77.125</td>\n",
       "      <td>13.432948</td>\n",
       "      <td>42.5</td>\n",
       "      <td>69.375</td>\n",
       "      <td>80.0</td>\n",
       "      <td>87.5</td>\n",
       "      <td>95.0</td>\n",
       "      <td>20.0</td>\n",
       "      <td>150.155</td>\n",
       "      <td>21.893582</td>\n",
       "      <td>112.7</td>\n",
       "      <td>135.600</td>\n",
       "      <td>148.65</td>\n",
       "      <td>167.30</td>\n",
       "      <td>185.3</td>\n",
       "    </tr>\n",
       "  </tbody>\n",
       "</table>\n",
       "</div>"
      ],
      "text/plain": [
       "         SUS                                                     Time  \\\n",
       "       count    mean        std   min     25%   50%   75%   max count   \n",
       "Gender                                                                  \n",
       "F       10.0  74.000  17.328525  40.0  66.250  77.5  87.5  92.5  10.0   \n",
       "M       20.0  77.125  13.432948  42.5  69.375  80.0  87.5  95.0  20.0   \n",
       "\n",
       "                                                                   \n",
       "           mean        std    min      25%     50%     75%    max  \n",
       "Gender                                                             \n",
       "F       172.190  15.656341  144.0  165.975  175.50  184.75  188.3  \n",
       "M       150.155  21.893582  112.7  135.600  148.65  167.30  185.3  "
      ]
     },
     "execution_count": 18,
     "metadata": {},
     "output_type": "execute_result"
    }
   ],
   "source": [
    "data.groupby('Gender')['SUS','Time'].describe()"
   ]
  },
  {
   "cell_type": "markdown",
   "metadata": {},
   "source": [
    "Medias de Centralidad\n",
    "Media y la media(mean)\n",
    "Como primer resultado podemos apreciar que el 33 de los individuos pertenece al genero femenino y el 66% al genero masculino.\n",
    "Ambos generos comparten un resultado similar en la media y mediana respecto a la usabilidad del sistema es decir no existe una diferencia significativa respecto a la calificacion de la usabilidad del sistema, esto se ve reflefajado en la desvicion standar al igual que sus cuartiles. A diferencia de los resultados obtenidos en el tiempo requerido para completar la tarea podemos apreciar que la media y la median del genero masculino difiere con un valor considerablemente menor al del genero femenino. Las medidas de dispercion sujieren que el tiempo empleado por los varores fue menor en relacion a las mujeres."
   ]
  },
  {
   "cell_type": "markdown",
   "metadata": {},
   "source": [
    "4. (1 pt) Descripción de variables numéricas agrupadas por \"Age\":"
   ]
  },
  {
   "cell_type": "code",
   "execution_count": 21,
   "metadata": {},
   "outputs": [
    {
     "name": "stderr",
     "output_type": "stream",
     "text": [
      "/tmp/ipykernel_8357/2439437661.py:1: FutureWarning: Indexing with multiple keys (implicitly converted to a tuple of keys) will be deprecated, use a list instead.\n",
      "  data.groupby(\"Age\")['SUS','Time'].describe()\n"
     ]
    },
    {
     "data": {
      "text/html": [
       "<div>\n",
       "<style scoped>\n",
       "    .dataframe tbody tr th:only-of-type {\n",
       "        vertical-align: middle;\n",
       "    }\n",
       "\n",
       "    .dataframe tbody tr th {\n",
       "        vertical-align: top;\n",
       "    }\n",
       "\n",
       "    .dataframe thead tr th {\n",
       "        text-align: left;\n",
       "    }\n",
       "\n",
       "    .dataframe thead tr:last-of-type th {\n",
       "        text-align: right;\n",
       "    }\n",
       "</style>\n",
       "<table border=\"1\" class=\"dataframe\">\n",
       "  <thead>\n",
       "    <tr>\n",
       "      <th></th>\n",
       "      <th colspan=\"8\" halign=\"left\">SUS</th>\n",
       "      <th colspan=\"8\" halign=\"left\">Time</th>\n",
       "    </tr>\n",
       "    <tr>\n",
       "      <th></th>\n",
       "      <th>count</th>\n",
       "      <th>mean</th>\n",
       "      <th>std</th>\n",
       "      <th>min</th>\n",
       "      <th>25%</th>\n",
       "      <th>50%</th>\n",
       "      <th>75%</th>\n",
       "      <th>max</th>\n",
       "      <th>count</th>\n",
       "      <th>mean</th>\n",
       "      <th>std</th>\n",
       "      <th>min</th>\n",
       "      <th>25%</th>\n",
       "      <th>50%</th>\n",
       "      <th>75%</th>\n",
       "      <th>max</th>\n",
       "    </tr>\n",
       "    <tr>\n",
       "      <th>Age</th>\n",
       "      <th></th>\n",
       "      <th></th>\n",
       "      <th></th>\n",
       "      <th></th>\n",
       "      <th></th>\n",
       "      <th></th>\n",
       "      <th></th>\n",
       "      <th></th>\n",
       "      <th></th>\n",
       "      <th></th>\n",
       "      <th></th>\n",
       "      <th></th>\n",
       "      <th></th>\n",
       "      <th></th>\n",
       "      <th></th>\n",
       "      <th></th>\n",
       "    </tr>\n",
       "  </thead>\n",
       "  <tbody>\n",
       "    <tr>\n",
       "      <th>forty</th>\n",
       "      <td>6.0</td>\n",
       "      <td>72.083333</td>\n",
       "      <td>14.354152</td>\n",
       "      <td>52.5</td>\n",
       "      <td>63.125</td>\n",
       "      <td>71.25</td>\n",
       "      <td>85.00</td>\n",
       "      <td>87.5</td>\n",
       "      <td>6.0</td>\n",
       "      <td>177.550000</td>\n",
       "      <td>5.766368</td>\n",
       "      <td>171.0</td>\n",
       "      <td>173.65</td>\n",
       "      <td>176.0</td>\n",
       "      <td>182.325</td>\n",
       "      <td>185.0</td>\n",
       "    </tr>\n",
       "    <tr>\n",
       "      <th>thirty</th>\n",
       "      <td>7.0</td>\n",
       "      <td>74.642857</td>\n",
       "      <td>12.535663</td>\n",
       "      <td>57.5</td>\n",
       "      <td>66.250</td>\n",
       "      <td>75.00</td>\n",
       "      <td>83.75</td>\n",
       "      <td>90.0</td>\n",
       "      <td>7.0</td>\n",
       "      <td>166.214286</td>\n",
       "      <td>22.118350</td>\n",
       "      <td>128.3</td>\n",
       "      <td>154.65</td>\n",
       "      <td>176.3</td>\n",
       "      <td>181.800</td>\n",
       "      <td>186.0</td>\n",
       "    </tr>\n",
       "    <tr>\n",
       "      <th>twenty</th>\n",
       "      <td>17.0</td>\n",
       "      <td>78.088235</td>\n",
       "      <td>15.898344</td>\n",
       "      <td>40.0</td>\n",
       "      <td>75.000</td>\n",
       "      <td>80.00</td>\n",
       "      <td>87.50</td>\n",
       "      <td>95.0</td>\n",
       "      <td>17.0</td>\n",
       "      <td>146.835294</td>\n",
       "      <td>20.266350</td>\n",
       "      <td>112.7</td>\n",
       "      <td>135.70</td>\n",
       "      <td>148.0</td>\n",
       "      <td>157.700</td>\n",
       "      <td>188.3</td>\n",
       "    </tr>\n",
       "  </tbody>\n",
       "</table>\n",
       "</div>"
      ],
      "text/plain": [
       "         SUS                                                          Time  \\\n",
       "       count       mean        std   min     25%    50%    75%   max count   \n",
       "Age                                                                          \n",
       "forty    6.0  72.083333  14.354152  52.5  63.125  71.25  85.00  87.5   6.0   \n",
       "thirty   7.0  74.642857  12.535663  57.5  66.250  75.00  83.75  90.0   7.0   \n",
       "twenty  17.0  78.088235  15.898344  40.0  75.000  80.00  87.50  95.0  17.0   \n",
       "\n",
       "                                                                     \n",
       "              mean        std    min     25%    50%      75%    max  \n",
       "Age                                                                  \n",
       "forty   177.550000   5.766368  171.0  173.65  176.0  182.325  185.0  \n",
       "thirty  166.214286  22.118350  128.3  154.65  176.3  181.800  186.0  \n",
       "twenty  146.835294  20.266350  112.7  135.70  148.0  157.700  188.3  "
      ]
     },
     "execution_count": 21,
     "metadata": {},
     "output_type": "execute_result"
    }
   ],
   "source": [
    "data.groupby(\"Age\")['SUS','Time'].describe()"
   ]
  },
  {
   "cell_type": "markdown",
   "metadata": {},
   "source": [
    "Podemos apreciar que existen tres categorias de edad siendo la mayoria personas  con 20 años.  Respecto a la usabilidad del sistema podemoes aprecia que no existe una diferencia significativa en las mediadas de centralidad, aunque si podemos observar una diferencia en la dedia entre las personas con 40 años y las de 20. Las medidas de dispercion muestran valores similares el unico valor a destacar es el minimo.\n",
    "Respecto al tiempo vemos que si existe una gran diferencia en la media y la mediana con las personas de 20 años y el grupo de 30 y 40 lo que sugiere que las personas mayores o iguales a 30 años necesitan mayor tiempo para realizar la actividad. Las medidas de despercion muestran iguales resultados a la poblacion mayor o igual a 30 les toma mas tiempo ejecutar el trabajo.\n"
   ]
  },
  {
   "cell_type": "markdown",
   "metadata": {},
   "source": [
    "A partir del análsis descriptivo agrupado que ha realizado, construya los siguientes\n",
    "gráficos:"
   ]
  }
 ],
 "metadata": {
  "interpreter": {
   "hash": "c629e06671d42d262ce370bbb00ab382667744bfebe13cb1c7262c94987f6270"
  },
  "kernelspec": {
   "display_name": "Python 3.9.12 ('base')",
   "language": "python",
   "name": "python3"
  },
  "language_info": {
   "codemirror_mode": {
    "name": "ipython",
    "version": 3
   },
   "file_extension": ".py",
   "mimetype": "text/x-python",
   "name": "python",
   "nbconvert_exporter": "python",
   "pygments_lexer": "ipython3",
   "version": "3.9.12"
  },
  "orig_nbformat": 4
 },
 "nbformat": 4,
 "nbformat_minor": 2
}
