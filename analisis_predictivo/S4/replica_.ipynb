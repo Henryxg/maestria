{
  "nbformat": 4,
  "nbformat_minor": 0,
  "metadata": {
    "colab": {
      "provenance": []
    },
    "kernelspec": {
      "name": "python3",
      "display_name": "Python 3"
    },
    "language_info": {
      "name": "python"
    }
  },
  "cells": [
    {
      "cell_type": "markdown",
      "source": [
        "# 1. Importe la base de datos de la tarea de la semana 1 (Dummy Data.csv) en Jupyter Notebook."
      ],
      "metadata": {
        "id": "sC7GKX4t7Xtl"
      }
    },
    {
      "cell_type": "code",
      "source": [
        "import numpy as np\n",
        "import pandas as pd\n",
        "import matplotlib.pyplot as plt\n",
        "import seaborn as sns\n",
        "\n",
        "import warnings\n",
        "warnings.filterwarnings(\"ignore\")"
      ],
      "metadata": {
        "id": "3_exwSFr8vku"
      },
      "execution_count": 37,
      "outputs": []
    },
    {
      "cell_type": "code",
      "source": [
        "df=pd.read_csv(\"DummyData.csv\")\n",
        "\n",
        "df.dropna(inplace=True )"
      ],
      "metadata": {
        "id": "SwwDX6tr8xp4"
      },
      "execution_count": 38,
      "outputs": []
    },
    {
      "cell_type": "markdown",
      "source": [
        "# 2. Escoja su variable objetivo y las variables independientes considerando un enfoque de regresión lineal."
      ],
      "metadata": {
        "id": "SUjNUIMg70ik"
      }
    },
    {
      "cell_type": "code",
      "execution_count": 39,
      "metadata": {
        "id": "4737275e"
      },
      "outputs": [],
      "source": [
        "from sklearn.linear_model import LinearRegression\n",
        "from sklearn.preprocessing import LabelEncoder\n",
        "from sklearn.model_selection import train_test_split"
      ]
    },
    {
      "cell_type": "code",
      "source": [
        "var_cuantitativas = df.select_dtypes('number').columns\n",
        "var_cualitativas  =df.select_dtypes('object').columns\n",
        "labelencoder = LabelEncoder()\n",
        "df[var_cualitativas] = df[var_cualitativas].apply(labelencoder.fit_transform)\n",
        "X = df[df.columns.difference(['Sales'])]\n",
        "y = df.Sales"
      ],
      "metadata": {
        "id": "l7wTfLlH9xx2"
      },
      "execution_count": 40,
      "outputs": []
    },
    {
      "cell_type": "markdown",
      "source": [
        "# 3. Realice un train/test split, separando un 90% de los datos para la submuestra de entrenamiento y 10% para la submuestra de prueba. "
      ],
      "metadata": {
        "id": "N_4mgOdm77E5"
      }
    },
    {
      "cell_type": "code",
      "source": [
        "X_train , X_test , y_train , y_test = train_test_split(X , y , test_size = 0.10,random_state =123)"
      ],
      "metadata": {
        "id": "7u6JHX3B-LFC"
      },
      "execution_count": 41,
      "outputs": []
    },
    {
      "cell_type": "code",
      "source": [],
      "metadata": {
        "id": "l86qvEXa-tmh"
      },
      "execution_count": 41,
      "outputs": []
    },
    {
      "cell_type": "code",
      "execution_count": 42,
      "metadata": {
        "id": "8382f803",
        "outputId": "49032a49-d8df-4676-dab7-846c3057ce9a",
        "colab": {
          "base_uri": "https://localhost:8080/"
        }
      },
      "outputs": [
        {
          "output_type": "stream",
          "name": "stdout",
          "text": [
            "(4091, 4)  <class 'pandas.core.frame.DataFrame'>\n",
            "(4091,) \t  <class 'pandas.core.series.Series'>\n",
            "(455, 4)  <class 'pandas.core.frame.DataFrame'>\n",
            "(455,) \t  <class 'pandas.core.series.Series'>\n"
          ]
        }
      ],
      "source": [
        "print(X_train.shape,\"\",type(X_train))\n",
        "print(y_train.shape,\"\\t \",type(y_train))\n",
        "print(X_test.shape,\"\",type(X_test))\n",
        "print(y_test.shape,\"\\t \",type(y_test))"
      ]
    },
    {
      "cell_type": "markdown",
      "source": [
        "# 4.Entrene al modelo de regresión lineal por sklearn. "
      ],
      "metadata": {
        "id": "tieUQeee8DrF"
      }
    },
    {
      "cell_type": "code",
      "source": [
        "modelo_regresion = LinearRegression()\n",
        "modelo_regresion.fit(X_train, y_train ,)"
      ],
      "metadata": {
        "colab": {
          "base_uri": "https://localhost:8080/"
        },
        "id": "w4vKQB8Y-SI2",
        "outputId": "32017ea3-61e5-4773-b023-d9fca41fd70e"
      },
      "execution_count": 43,
      "outputs": [
        {
          "output_type": "execute_result",
          "data": {
            "text/plain": [
              "LinearRegression()"
            ]
          },
          "metadata": {},
          "execution_count": 43
        }
      ]
    },
    {
      "cell_type": "code",
      "source": [
        "predicciones_train = modelo_regresion.predict(X_train)\n",
        "predicciones_test = modelo_regresion.predict(X_test)"
      ],
      "metadata": {
        "id": "BsTzhB5LDReL"
      },
      "execution_count": 48,
      "outputs": []
    },
    {
      "cell_type": "markdown",
      "source": [
        "# 5. Evalúe su modelo. ¿Es este aceptable?, para ello escoja las métricas correspondientes. "
      ],
      "metadata": {
        "id": "sooPjZym8JeE"
      }
    },
    {
      "cell_type": "code",
      "source": [
        "from sklearn.metrics import mean_squared_error, mean_absolute_error\n",
        "from sklearn.metrics import r2_score"
      ],
      "metadata": {
        "id": "y5Sqsfx-DKY1"
      },
      "execution_count": 52,
      "outputs": []
    },
    {
      "cell_type": "code",
      "source": [
        "MSE_train = mean_squared_error(y_train, predicciones_train)\n",
        "MSE_test = mean_squared_error(y_test, predicciones_test)\n",
        "print(MSE_train)\n",
        "print(MSE_test)"
      ],
      "metadata": {
        "colab": {
          "base_uri": "https://localhost:8080/"
        },
        "id": "FEN9Y7uGDL8e",
        "outputId": "25946c9c-a0b6-4f42-a683-ca72e3b90093"
      },
      "execution_count": 49,
      "outputs": [
        {
          "output_type": "stream",
          "name": "stdout",
          "text": [
            "8.65310485373915\n",
            "9.053409318682089\n"
          ]
        }
      ]
    },
    {
      "cell_type": "code",
      "source": [
        "RMSE_train = np.sqrt(MSE_train)\n",
        "RMSE_test = np.sqrt(MSE_test)\n",
        "print(RMSE_train)\n",
        "print(RMSE_test)"
      ],
      "metadata": {
        "colab": {
          "base_uri": "https://localhost:8080/"
        },
        "id": "O3ZGEsCWDWiK",
        "outputId": "97c2e2da-45b6-4883-f47b-48e76fc8ee1e"
      },
      "execution_count": 50,
      "outputs": [
        {
          "output_type": "stream",
          "name": "stdout",
          "text": [
            "2.941616027584013\n",
            "3.008888385879757\n"
          ]
        }
      ]
    },
    {
      "cell_type": "code",
      "source": [
        "MAE_train = mean_absolute_error(y_train, predicciones_train)\n",
        "MAE_test = mean_absolute_error(y_test, predicciones_test)\n",
        "print(MAE_train)\n",
        "print(MAE_test)"
      ],
      "metadata": {
        "colab": {
          "base_uri": "https://localhost:8080/"
        },
        "id": "H-4CWencDa7r",
        "outputId": "26fb91f8-a8a9-4ef1-c1ee-32d8c4652d95"
      },
      "execution_count": 51,
      "outputs": [
        {
          "output_type": "stream",
          "name": "stdout",
          "text": [
            "2.3584650397450866\n",
            "2.420156808073672\n"
          ]
        }
      ]
    },
    {
      "cell_type": "code",
      "source": [
        "r_square_train = r2_score(y_train, predicciones_train)\n",
        "r_square_test  = r2_score(y_test, predicciones_test)\n",
        "print('El R^2 del subconjunto de entrenamiento es:' , r_square_train)\n",
        "print('El R^2 del subconjunto de prueba es:' , r_square_test)"
      ],
      "metadata": {
        "colab": {
          "base_uri": "https://localhost:8080/"
        },
        "id": "4tr-gX8rDiu5",
        "outputId": "7664fc08-e8ca-4ad8-b270-8af4ff28be69"
      },
      "execution_count": 53,
      "outputs": [
        {
          "output_type": "stream",
          "name": "stdout",
          "text": [
            "El R^2 del subconjunto de entrenamiento es: 0.9990026991367676\n",
            "El R^2 del subconjunto de prueba es: 0.9989196736539484\n"
          ]
        }
      ]
    },
    {
      "cell_type": "markdown",
      "source": [
        "# 6. Compare sus predicciones con los datos reales mediante un gráfico. "
      ],
      "metadata": {
        "id": "0DzLzLYm8NMu"
      }
    },
    {
      "cell_type": "code",
      "source": [
        "fig, ax = plt.subplots()\n",
        "ax.plot(y_train.values)\n",
        "ax.plot(predicciones_train)\n",
        "plt.title(\"Valores observados vs. predichos en train set\");"
      ],
      "metadata": {
        "colab": {
          "base_uri": "https://localhost:8080/",
          "height": 281
        },
        "id": "4RCu1kJaDvCG",
        "outputId": "07e8d56c-9e5f-4a8e-bdc2-1ed62079e631"
      },
      "execution_count": 54,
      "outputs": [
        {
          "output_type": "display_data",
          "data": {
            "text/plain": [
              "<Figure size 432x288 with 1 Axes>"
            ],
            "image/png": "[encoded data removed]"
          },
          "metadata": {
            "needs_background": "light"
          }
        }
      ]
    },
    {
      "cell_type": "code",
      "source": [
        "fig, ax = plt.subplots()\n",
        "ax.plot(y_test.values)\n",
        "ax.plot(predicciones_test)\n",
        "plt.title(\"Valores observados vs. predichos en test set\");"
      ],
      "metadata": {
        "id": "V7heX2X4D3jB"
      },
      "execution_count": null,
      "outputs": []
    },
    {
      "cell_type": "code",
      "source": [],
      "metadata": {
        "id": "D41wAgcjEHkS"
      },
      "execution_count": null,
      "outputs": []
    },
    {
      "cell_type": "markdown",
      "source": [
        "# 7. Identifique a las dos variables con  mayor poder explicativo en el modelo ¿Cómo las identificó?"
      ],
      "metadata": {
        "id": "94W3eU6e8Qz4"
      }
    },
    {
      "cell_type": "code",
      "source": [
        "from sklearn.preprocessing import StandardScaler\n",
        "sc = StandardScaler()\n",
        "modelo_regresion_std = LinearRegression()\n",
        "modelo_regresion_std.fit(X_train_std, y_train)"
      ],
      "metadata": {
        "colab": {
          "base_uri": "https://localhost:8080/"
        },
        "id": "pk-9SearEJJq",
        "outputId": "4126743a-df28-4e59-c7e1-8eac04669cfd"
      },
      "execution_count": 61,
      "outputs": [
        {
          "output_type": "execute_result",
          "data": {
            "text/plain": [
              "LinearRegression()"
            ]
          },
          "metadata": {},
          "execution_count": 61
        }
      ]
    },
    {
      "cell_type": "code",
      "source": [
        "X_train_std = sc.fit_transform(X_train)\n",
        "X_test_std = sc.transform(X_test)"
      ],
      "metadata": {
        "id": "YlZwgRQEEUNr"
      },
      "execution_count": 62,
      "outputs": []
    },
    {
      "cell_type": "code",
      "execution_count": 63,
      "metadata": {
        "id": "0b09493f"
      },
      "outputs": [],
      "source": [
        "importancia = modelo_regresion_std.coef_"
      ]
    },
    {
      "cell_type": "code",
      "source": [
        "for i,v in enumerate(importancia):\n",
        "    print('Variable explicativa No. %0d, Score: %.5f' % (i,v))"
      ],
      "metadata": {
        "colab": {
          "base_uri": "https://localhost:8080/"
        },
        "id": "QN-0qs5KEqww",
        "outputId": "4abcac65-7833-4930-931f-cbd7b5ebf3d7"
      },
      "execution_count": 64,
      "outputs": [
        {
          "output_type": "stream",
          "name": "stdout",
          "text": [
            "Variable explicativa No. 0, Score: -0.02767\n",
            "Variable explicativa No. 1, Score: -0.00353\n",
            "Variable explicativa No. 2, Score: -0.00187\n",
            "Variable explicativa No. 3, Score: 93.10500\n"
          ]
        }
      ]
    },
    {
      "cell_type": "code",
      "source": [
        "plt.bar([x for x in range(len(importancia))], importancia)\n",
        "plt.show()"
      ],
      "metadata": {
        "colab": {
          "base_uri": "https://localhost:8080/",
          "height": 265
        },
        "id": "X3dfqbMYEwHo",
        "outputId": "7288c6e1-b286-45e1-d5cb-78daf10e66b5"
      },
      "execution_count": 65,
      "outputs": [
        {
          "output_type": "display_data",
          "data": {
            "text/plain": [
              "<Figure size 432x288 with 1 Axes>"
            ],
            "image/png": "[encoded data removed]"
          },
          "metadata": {
            "needs_background": "light"
          }
        }
      ]
    },
    {
      "cell_type": "markdown",
      "source": [
        "#1. Importe la base de datos de la tarea de la semana 2 (bank-additional-full)"
      ],
      "metadata": {
        "id": "9XB408lq8S9u"
      }
    },
    {
      "cell_type": "code",
      "source": [
        "df=pd.read_csv(\"bank-additional-full.csv\",delimiter= \";\" )\n",
        "\n",
        "df.dropna(inplace=True )\n",
        "df"
      ],
      "metadata": {
        "colab": {
          "base_uri": "https://localhost:8080/",
          "height": 487
        },
        "id": "HmaK3o95FAvS",
        "outputId": "9f827687-a7e6-4756-8c58-d12b6a43fdcb"
      },
      "execution_count": 68,
      "outputs": [
        {
          "output_type": "execute_result",
          "data": {
            "text/plain": [
              "       age          job  marital            education  default housing loan  \\\n",
              "0       56    housemaid  married             basic.4y       no      no   no   \n",
              "1       57     services  married          high.school  unknown      no   no   \n",
              "2       37     services  married          high.school       no     yes   no   \n",
              "3       40       admin.  married             basic.6y       no      no   no   \n",
              "4       56     services  married          high.school       no      no  yes   \n",
              "...    ...          ...      ...                  ...      ...     ...  ...   \n",
              "41183   73      retired  married  professional.course       no     yes   no   \n",
              "41184   46  blue-collar  married  professional.course       no      no   no   \n",
              "41185   56      retired  married    university.degree       no     yes   no   \n",
              "41186   44   technician  married  professional.course       no      no   no   \n",
              "41187   74      retired  married  professional.course       no     yes   no   \n",
              "\n",
              "         contact month day_of_week  ...  campaign  pdays  previous  \\\n",
              "0      telephone   may         mon  ...         1    999         0   \n",
              "1      telephone   may         mon  ...         1    999         0   \n",
              "2      telephone   may         mon  ...         1    999         0   \n",
              "3      telephone   may         mon  ...         1    999         0   \n",
              "4      telephone   may         mon  ...         1    999         0   \n",
              "...          ...   ...         ...  ...       ...    ...       ...   \n",
              "41183   cellular   nov         fri  ...         1    999         0   \n",
              "41184   cellular   nov         fri  ...         1    999         0   \n",
              "41185   cellular   nov         fri  ...         2    999         0   \n",
              "41186   cellular   nov         fri  ...         1    999         0   \n",
              "41187   cellular   nov         fri  ...         3    999         1   \n",
              "\n",
              "          poutcome emp.var.rate  cons.price.idx  cons.conf.idx  euribor3m  \\\n",
              "0      nonexistent          1.1          93.994          -36.4      4.857   \n",
              "1      nonexistent          1.1          93.994          -36.4      4.857   \n",
              "2      nonexistent          1.1          93.994          -36.4      4.857   \n",
              "3      nonexistent          1.1          93.994          -36.4      4.857   \n",
              "4      nonexistent          1.1          93.994          -36.4      4.857   \n",
              "...            ...          ...             ...            ...        ...   \n",
              "41183  nonexistent         -1.1          94.767          -50.8      1.028   \n",
              "41184  nonexistent         -1.1          94.767          -50.8      1.028   \n",
              "41185  nonexistent         -1.1          94.767          -50.8      1.028   \n",
              "41186  nonexistent         -1.1          94.767          -50.8      1.028   \n",
              "41187      failure         -1.1          94.767          -50.8      1.028   \n",
              "\n",
              "       nr.employed    y  \n",
              "0           5191.0   no  \n",
              "1           5191.0   no  \n",
              "2           5191.0   no  \n",
              "3           5191.0   no  \n",
              "4           5191.0   no  \n",
              "...            ...  ...  \n",
              "41183       4963.6  yes  \n",
              "41184       4963.6   no  \n",
              "41185       4963.6   no  \n",
              "41186       4963.6  yes  \n",
              "41187       4963.6   no  \n",
              "\n",
              "[41188 rows x 21 columns]"
            ],
            "text/html": [
              "\n",
              "  <div id=\"df-d9041bf1-4e72-4d3c-ba88-1ce392a4a0a1\">\n",
              "    <div class=\"colab-df-container\">\n",
              "      <div>\n",
              "<style scoped>\n",
              "    .dataframe tbody tr th:only-of-type {\n",
              "        vertical-align: middle;\n",
              "    }\n",
              "\n",
              "    .dataframe tbody tr th {\n",
              "        vertical-align: top;\n",
              "    }\n",
              "\n",
              "    .dataframe thead th {\n",
              "        text-align: right;\n",
              "    }\n",
              "</style>\n",
              "<table border=\"1\" class=\"dataframe\">\n",
              "  <thead>\n",
              "    <tr style=\"text-align: right;\">\n",
              "      <th></th>\n",
              "      <th>age</th>\n",
              "      <th>job</th>\n",
              "      <th>marital</th>\n",
              "      <th>education</th>\n",
              "      <th>default</th>\n",
              "      <th>housing</th>\n",
              "      <th>loan</th>\n",
              "      <th>contact</th>\n",
              "      <th>month</th>\n",
              "      <th>day_of_week</th>\n",
              "      <th>...</th>\n",
              "      <th>campaign</th>\n",
              "      <th>pdays</th>\n",
              "      <th>previous</th>\n",
              "      <th>poutcome</th>\n",
              "      <th>emp.var.rate</th>\n",
              "      <th>cons.price.idx</th>\n",
              "      <th>cons.conf.idx</th>\n",
              "      <th>euribor3m</th>\n",
              "      <th>nr.employed</th>\n",
              "      <th>y</th>\n",
              "    </tr>\n",
              "  </thead>\n",
              "  <tbody>\n",
              "    <tr>\n",
              "      <th>0</th>\n",
              "      <td>56</td>\n",
              "      <td>housemaid</td>\n",
              "      <td>married</td>\n",
              "      <td>basic.4y</td>\n",
              "      <td>no</td>\n",
              "      <td>no</td>\n",
              "      <td>no</td>\n",
              "      <td>telephone</td>\n",
              "      <td>may</td>\n",
              "      <td>mon</td>\n",
              "      <td>...</td>\n",
              "      <td>1</td>\n",
              "      <td>999</td>\n",
              "      <td>0</td>\n",
              "      <td>nonexistent</td>\n",
              "      <td>1.1</td>\n",
              "      <td>93.994</td>\n",
              "      <td>-36.4</td>\n",
              "      <td>4.857</td>\n",
              "      <td>5191.0</td>\n",
              "      <td>no</td>\n",
              "    </tr>\n",
              "    <tr>\n",
              "      <th>1</th>\n",
              "      <td>57</td>\n",
              "      <td>services</td>\n",
              "      <td>married</td>\n",
              "      <td>high.school</td>\n",
              "      <td>unknown</td>\n",
              "      <td>no</td>\n",
              "      <td>no</td>\n",
              "      <td>telephone</td>\n",
              "      <td>may</td>\n",
              "      <td>mon</td>\n",
              "      <td>...</td>\n",
              "      <td>1</td>\n",
              "      <td>999</td>\n",
              "      <td>0</td>\n",
              "      <td>nonexistent</td>\n",
              "      <td>1.1</td>\n",
              "      <td>93.994</td>\n",
              "      <td>-36.4</td>\n",
              "      <td>4.857</td>\n",
              "      <td>5191.0</td>\n",
              "      <td>no</td>\n",
              "    </tr>\n",
              "    <tr>\n",
              "      <th>2</th>\n",
              "      <td>37</td>\n",
              "      <td>services</td>\n",
              "      <td>married</td>\n",
              "      <td>high.school</td>\n",
              "      <td>no</td>\n",
              "      <td>yes</td>\n",
              "      <td>no</td>\n",
              "      <td>telephone</td>\n",
              "      <td>may</td>\n",
              "      <td>mon</td>\n",
              "      <td>...</td>\n",
              "      <td>1</td>\n",
              "      <td>999</td>\n",
              "      <td>0</td>\n",
              "      <td>nonexistent</td>\n",
              "      <td>1.1</td>\n",
              "      <td>93.994</td>\n",
              "      <td>-36.4</td>\n",
              "      <td>4.857</td>\n",
              "      <td>5191.0</td>\n",
              "      <td>no</td>\n",
              "    </tr>\n",
              "    <tr>\n",
              "      <th>3</th>\n",
              "      <td>40</td>\n",
              "      <td>admin.</td>\n",
              "      <td>married</td>\n",
              "      <td>basic.6y</td>\n",
              "      <td>no</td>\n",
              "      <td>no</td>\n",
              "      <td>no</td>\n",
              "      <td>telephone</td>\n",
              "      <td>may</td>\n",
              "      <td>mon</td>\n",
              "      <td>...</td>\n",
              "      <td>1</td>\n",
              "      <td>999</td>\n",
              "      <td>0</td>\n",
              "      <td>nonexistent</td>\n",
              "      <td>1.1</td>\n",
              "      <td>93.994</td>\n",
              "      <td>-36.4</td>\n",
              "      <td>4.857</td>\n",
              "      <td>5191.0</td>\n",
              "      <td>no</td>\n",
              "    </tr>\n",
              "    <tr>\n",
              "      <th>4</th>\n",
              "      <td>56</td>\n",
              "      <td>services</td>\n",
              "      <td>married</td>\n",
              "      <td>high.school</td>\n",
              "      <td>no</td>\n",
              "      <td>no</td>\n",
              "      <td>yes</td>\n",
              "      <td>telephone</td>\n",
              "      <td>may</td>\n",
              "      <td>mon</td>\n",
              "      <td>...</td>\n",
              "      <td>1</td>\n",
              "      <td>999</td>\n",
              "      <td>0</td>\n",
              "      <td>nonexistent</td>\n",
              "      <td>1.1</td>\n",
              "      <td>93.994</td>\n",
              "      <td>-36.4</td>\n",
              "      <td>4.857</td>\n",
              "      <td>5191.0</td>\n",
              "      <td>no</td>\n",
              "    </tr>\n",
              "    <tr>\n",
              "      <th>...</th>\n",
              "      <td>...</td>\n",
              "      <td>...</td>\n",
              "      <td>...</td>\n",
              "      <td>...</td>\n",
              "      <td>...</td>\n",
              "      <td>...</td>\n",
              "      <td>...</td>\n",
              "      <td>...</td>\n",
              "      <td>...</td>\n",
              "      <td>...</td>\n",
              "      <td>...</td>\n",
              "      <td>...</td>\n",
              "      <td>...</td>\n",
              "      <td>...</td>\n",
              "      <td>...</td>\n",
              "      <td>...</td>\n",
              "      <td>...</td>\n",
              "      <td>...</td>\n",
              "      <td>...</td>\n",
              "      <td>...</td>\n",
              "      <td>...</td>\n",
              "    </tr>\n",
              "    <tr>\n",
              "      <th>41183</th>\n",
              "      <td>73</td>\n",
              "      <td>retired</td>\n",
              "      <td>married</td>\n",
              "      <td>professional.course</td>\n",
              "      <td>no</td>\n",
              "      <td>yes</td>\n",
              "      <td>no</td>\n",
              "      <td>cellular</td>\n",
              "      <td>nov</td>\n",
              "      <td>fri</td>\n",
              "      <td>...</td>\n",
              "      <td>1</td>\n",
              "      <td>999</td>\n",
              "      <td>0</td>\n",
              "      <td>nonexistent</td>\n",
              "      <td>-1.1</td>\n",
              "      <td>94.767</td>\n",
              "      <td>-50.8</td>\n",
              "      <td>1.028</td>\n",
              "      <td>4963.6</td>\n",
              "      <td>yes</td>\n",
              "    </tr>\n",
              "    <tr>\n",
              "      <th>41184</th>\n",
              "      <td>46</td>\n",
              "      <td>blue-collar</td>\n",
              "      <td>married</td>\n",
              "      <td>professional.course</td>\n",
              "      <td>no</td>\n",
              "      <td>no</td>\n",
              "      <td>no</td>\n",
              "      <td>cellular</td>\n",
              "      <td>nov</td>\n",
              "      <td>fri</td>\n",
              "      <td>...</td>\n",
              "      <td>1</td>\n",
              "      <td>999</td>\n",
              "      <td>0</td>\n",
              "      <td>nonexistent</td>\n",
              "      <td>-1.1</td>\n",
              "      <td>94.767</td>\n",
              "      <td>-50.8</td>\n",
              "      <td>1.028</td>\n",
              "      <td>4963.6</td>\n",
              "      <td>no</td>\n",
              "    </tr>\n",
              "    <tr>\n",
              "      <th>41185</th>\n",
              "      <td>56</td>\n",
              "      <td>retired</td>\n",
              "      <td>married</td>\n",
              "      <td>university.degree</td>\n",
              "      <td>no</td>\n",
              "      <td>yes</td>\n",
              "      <td>no</td>\n",
              "      <td>cellular</td>\n",
              "      <td>nov</td>\n",
              "      <td>fri</td>\n",
              "      <td>...</td>\n",
              "      <td>2</td>\n",
              "      <td>999</td>\n",
              "      <td>0</td>\n",
              "      <td>nonexistent</td>\n",
              "      <td>-1.1</td>\n",
              "      <td>94.767</td>\n",
              "      <td>-50.8</td>\n",
              "      <td>1.028</td>\n",
              "      <td>4963.6</td>\n",
              "      <td>no</td>\n",
              "    </tr>\n",
              "    <tr>\n",
              "      <th>41186</th>\n",
              "      <td>44</td>\n",
              "      <td>technician</td>\n",
              "      <td>married</td>\n",
              "      <td>professional.course</td>\n",
              "      <td>no</td>\n",
              "      <td>no</td>\n",
              "      <td>no</td>\n",
              "      <td>cellular</td>\n",
              "      <td>nov</td>\n",
              "      <td>fri</td>\n",
              "      <td>...</td>\n",
              "      <td>1</td>\n",
              "      <td>999</td>\n",
              "      <td>0</td>\n",
              "      <td>nonexistent</td>\n",
              "      <td>-1.1</td>\n",
              "      <td>94.767</td>\n",
              "      <td>-50.8</td>\n",
              "      <td>1.028</td>\n",
              "      <td>4963.6</td>\n",
              "      <td>yes</td>\n",
              "    </tr>\n",
              "    <tr>\n",
              "      <th>41187</th>\n",
              "      <td>74</td>\n",
              "      <td>retired</td>\n",
              "      <td>married</td>\n",
              "      <td>professional.course</td>\n",
              "      <td>no</td>\n",
              "      <td>yes</td>\n",
              "      <td>no</td>\n",
              "      <td>cellular</td>\n",
              "      <td>nov</td>\n",
              "      <td>fri</td>\n",
              "      <td>...</td>\n",
              "      <td>3</td>\n",
              "      <td>999</td>\n",
              "      <td>1</td>\n",
              "      <td>failure</td>\n",
              "      <td>-1.1</td>\n",
              "      <td>94.767</td>\n",
              "      <td>-50.8</td>\n",
              "      <td>1.028</td>\n",
              "      <td>4963.6</td>\n",
              "      <td>no</td>\n",
              "    </tr>\n",
              "  </tbody>\n",
              "</table>\n",
              "<p>41188 rows × 21 columns</p>\n",
              "</div>\n",
              "      <button class=\"colab-df-convert\" onclick=\"convertToInteractive('df-d9041bf1-4e72-4d3c-ba88-1ce392a4a0a1')\"\n",
              "              title=\"Convert this dataframe to an interactive table.\"\n",
              "              style=\"display:none;\">\n",
              "        \n",
              "  <svg xmlns=\"http://www.w3.org/2000/svg\" height=\"24px\"viewBox=\"0 0 24 24\"\n",
              "       width=\"24px\">\n",
              "    <path d=\"M0 0h24v24H0V0z\" fill=\"none\"/>\n",
              "    <path d=\"M18.56 5.44l.94 2.06.94-2.06 2.06-.94-2.06-.94-.94-2.06-.94 2.06-2.06.94zm-11 1L8.5 8.5l.94-2.06 2.06-.94-2.06-.94L8.5 2.5l-.94 2.06-2.06.94zm10 10l.94 2.06.94-2.06 2.06-.94-2.06-.94-.94-2.06-.94 2.06-2.06.94z\"/><path d=\"M17.41 7.96l-1.37-1.37c-.4-.4-.92-.59-1.43-.59-.52 0-1.04.2-1.43.59L10.3 9.45l-7.72 7.72c-.78.78-.78 2.05 0 2.83L4 21.41c.39.39.9.59 1.41.59.51 0 1.02-.2 1.41-.59l7.78-7.78 2.81-2.81c.8-.78.8-2.07 0-2.86zM5.41 20L4 18.59l7.72-7.72 1.47 1.35L5.41 20z\"/>\n",
              "  </svg>\n",
              "      </button>\n",
              "      \n",
              "  <style>\n",
              "    .colab-df-container {\n",
              "      display:flex;\n",
              "      flex-wrap:wrap;\n",
              "      gap: 12px;\n",
              "    }\n",
              "\n",
              "    .colab-df-convert {\n",
              "      background-color: #E8F0FE;\n",
              "      border: none;\n",
              "      border-radius: 50%;\n",
              "      cursor: pointer;\n",
              "      display: none;\n",
              "      fill: #1967D2;\n",
              "      height: 32px;\n",
              "      padding: 0 0 0 0;\n",
              "      width: 32px;\n",
              "    }\n",
              "\n",
              "    .colab-df-convert:hover {\n",
              "      background-color: #E2EBFA;\n",
              "      box-shadow: 0px 1px 2px rgba(60, 64, 67, 0.3), 0px 1px 3px 1px rgba(60, 64, 67, 0.15);\n",
              "      fill: #174EA6;\n",
              "    }\n",
              "\n",
              "    [theme=dark] .colab-df-convert {\n",
              "      background-color: #3B4455;\n",
              "      fill: #D2E3FC;\n",
              "    }\n",
              "\n",
              "    [theme=dark] .colab-df-convert:hover {\n",
              "      background-color: #434B5C;\n",
              "      box-shadow: 0px 1px 3px 1px rgba(0, 0, 0, 0.15);\n",
              "      filter: drop-shadow(0px 1px 2px rgba(0, 0, 0, 0.3));\n",
              "      fill: #FFFFFF;\n",
              "    }\n",
              "  </style>\n",
              "\n",
              "      <script>\n",
              "        const buttonEl =\n",
              "          document.querySelector('#df-d9041bf1-4e72-4d3c-ba88-1ce392a4a0a1 button.colab-df-convert');\n",
              "        buttonEl.style.display =\n",
              "          google.colab.kernel.accessAllowed ? 'block' : 'none';\n",
              "\n",
              "        async function convertToInteractive(key) {\n",
              "          const element = document.querySelector('#df-d9041bf1-4e72-4d3c-ba88-1ce392a4a0a1');\n",
              "          const dataTable =\n",
              "            await google.colab.kernel.invokeFunction('convertToInteractive',\n",
              "                                                     [key], {});\n",
              "          if (!dataTable) return;\n",
              "\n",
              "          const docLinkHtml = 'Like what you see? Visit the ' +\n",
              "            '<a target=\"_blank\" href=https://colab.research.google.com/notebooks/data_table.ipynb>data table notebook</a>'\n",
              "            + ' to learn more about interactive tables.';\n",
              "          element.innerHTML = '';\n",
              "          dataTable['output_type'] = 'display_data';\n",
              "          await google.colab.output.renderOutput(dataTable, element);\n",
              "          const docLink = document.createElement('div');\n",
              "          docLink.innerHTML = docLinkHtml;\n",
              "          element.appendChild(docLink);\n",
              "        }\n",
              "      </script>\n",
              "    </div>\n",
              "  </div>\n",
              "  "
            ]
          },
          "metadata": {},
          "execution_count": 68
        }
      ]
    },
    {
      "cell_type": "markdown",
      "source": [
        "# 2.Escoja su variable objetivo y las variables independientes considerando un enfoque de regresión logística. "
      ],
      "metadata": {
        "id": "1tNISgqT8XA2"
      }
    },
    {
      "cell_type": "code",
      "source": [],
      "metadata": {
        "id": "7pK1LUihF-Rn"
      },
      "execution_count": null,
      "outputs": []
    },
    {
      "cell_type": "code",
      "source": [
        "var_cuantitativas = df.select_dtypes('number').columns\n",
        "var_cualitativas  =df.select_dtypes('object').columns\n",
        "labelencoder = LabelEncoder()\n",
        "df[var_cualitativas] = df[var_cualitativas].apply(labelencoder.fit_transform)\n",
        "X_logit = df[df.columns.difference(['y'])]\n",
        "y_logit = df.y"
      ],
      "metadata": {
        "id": "dnD28kM5FjQO"
      },
      "execution_count": 71,
      "outputs": []
    },
    {
      "cell_type": "markdown",
      "source": [
        "# 3.Realice un train/test split, separando un 90% de los datos para la submuestra de entrenamiento y 10% para la submuestra de prueba. "
      ],
      "metadata": {
        "id": "zOKTJs5K8ZpH"
      }
    },
    {
      "cell_type": "code",
      "source": [
        "X_train_logit , X_test_logit , y_train_logit , y_test_logit = train_test_split(X_logit , y_logit , test_size = 0.10,random_state =123)"
      ],
      "metadata": {
        "id": "PR7yt8j6F22x"
      },
      "execution_count": 72,
      "outputs": []
    },
    {
      "cell_type": "code",
      "source": [
        "print(X_train_logit.shape,\"\",type(X_train_logit))\n",
        "print(X_train_logit.shape,\"\\t \",type(y_train_logit))\n",
        "print(X_test_logit.shape,\"\",type(X_test_logit))\n",
        "print(X_test_logit.shape,\"\\t \",type(y_test_logit))"
      ],
      "metadata": {
        "colab": {
          "base_uri": "https://localhost:8080/"
        },
        "id": "XMx5rRvvF-_E",
        "outputId": "60e37012-cc27-413a-c509-3b6ac8730d3b"
      },
      "execution_count": 73,
      "outputs": [
        {
          "output_type": "stream",
          "name": "stdout",
          "text": [
            "(37069, 20)  <class 'pandas.core.frame.DataFrame'>\n",
            "(37069, 20) \t  <class 'pandas.core.series.Series'>\n",
            "(4119, 20)  <class 'pandas.core.frame.DataFrame'>\n",
            "(4119, 20) \t  <class 'pandas.core.series.Series'>\n"
          ]
        }
      ]
    },
    {
      "cell_type": "markdown",
      "source": [
        "# 4. Entrene al modelo de regresión logística por sklearn. "
      ],
      "metadata": {
        "id": "46fQThgg8fxS"
      }
    },
    {
      "cell_type": "code",
      "source": [
        "from sklearn.linear_model import LogisticRegression"
      ],
      "metadata": {
        "id": "VrP0SluXGCPz"
      },
      "execution_count": 74,
      "outputs": []
    },
    {
      "cell_type": "code",
      "source": [
        "modelo_logistico = LogisticRegression()\n",
        "modelo_logistico.fit(X_train_logit, y_train_logit)\n",
        "predicciones_train_logit = modelo_logistico.predict(X_train_logit)\n",
        "predicciones_test_logit  = modelo_logistico.predict(X_test_logit)"
      ],
      "metadata": {
        "id": "rydUnZMLGDxm"
      },
      "execution_count": 75,
      "outputs": []
    },
    {
      "cell_type": "markdown",
      "source": [
        "# 5. Evalúe su modelo ¿Es este aceptable? , por ello escoja las métricas correspondientes."
      ],
      "metadata": {
        "id": "vpCfaNMq8lO6"
      }
    },
    {
      "cell_type": "code",
      "source": [
        "from sklearn import metrics\n",
        "from sklearn.metrics import precision_score, recall_score, f1_score\n",
        "cm = metrics.confusion_matrix(y_test_logit, predicciones_test_logit)\n",
        "print(cm)"
      ],
      "metadata": {
        "colab": {
          "base_uri": "https://localhost:8080/"
        },
        "id": "r5R5EIrDGKke",
        "outputId": "abfc305e-b8f6-4b02-a472-5f5e8b8b9854"
      },
      "execution_count": 76,
      "outputs": [
        {
          "output_type": "stream",
          "name": "stdout",
          "text": [
            "[[3586   85]\n",
            " [ 271  177]]\n"
          ]
        }
      ]
    },
    {
      "cell_type": "code",
      "source": [
        "fig, ax = plt.subplots(figsize=(5, 5))\n",
        "ax.matshow(cm, cmap=plt.cm.Oranges, alpha=0.3)\n",
        "for i in range(cm.shape[0]):\n",
        "    for j in range(cm.shape[1]):\n",
        "        ax.text(x=j, y=i,s=cm[i, j], va='center', ha='center', size='xx-large')\n",
        " \n",
        "plt.xlabel('Predictions', fontsize=18)\n",
        "plt.ylabel('Actuals', fontsize=18)\n",
        "plt.title('Confusion Matrix', fontsize=18)\n",
        "plt.show()"
      ],
      "metadata": {
        "colab": {
          "base_uri": "https://localhost:8080/",
          "height": 358
        },
        "id": "tfidmVvDGQke",
        "outputId": "03e20748-2335-439f-fce5-feccb3021aaa"
      },
      "execution_count": 77,
      "outputs": [
        {
          "output_type": "display_data",
          "data": {
            "text/plain": [
              "<Figure size 360x360 with 1 Axes>"
            ],
            "image/png": "[encoded data removed]"
          },
          "metadata": {
            "needs_background": "light"
          }
        }
      ]
    },
    {
      "cell_type": "markdown",
      "source": [
        "# 6. Identifique a las dos variables con mayor poder explicativo en el modelo ¿Cómo las identifico? "
      ],
      "metadata": {
        "id": "08vuMR3V8oGl"
      }
    },
    {
      "cell_type": "code",
      "source": [
        "sc_logit = StandardScaler()"
      ],
      "metadata": {
        "id": "SXe2IF1LGUTi"
      },
      "execution_count": 79,
      "outputs": []
    },
    {
      "cell_type": "code",
      "source": [
        "X_train_std_logit = sc_logit.fit_transform(X_train_logit)\n",
        "X_test_std_logit = sc_logit.transform(X_test_logit)"
      ],
      "metadata": {
        "id": "Oulzc7pjGbCo"
      },
      "execution_count": 81,
      "outputs": []
    },
    {
      "cell_type": "code",
      "source": [
        "modelo_logistico_std = LogisticRegression()\n",
        "modelo_logistico_std.fit(X_train_std_logit, y_train_logit)"
      ],
      "metadata": {
        "colab": {
          "base_uri": "https://localhost:8080/"
        },
        "id": "7jDjVMtJGhzq",
        "outputId": "e275f8fd-162d-49c7-c1bf-d239f83283a6"
      },
      "execution_count": 82,
      "outputs": [
        {
          "output_type": "execute_result",
          "data": {
            "text/plain": [
              "LogisticRegression()"
            ]
          },
          "metadata": {},
          "execution_count": 82
        }
      ]
    },
    {
      "cell_type": "code",
      "source": [
        "predicciones_train_logit_std = modelo_logistico_std.predict(X_train_std_logit)\n",
        "predicciones_test_logit_std  = modelo_logistico_std.predict(X_test_std_logit)"
      ],
      "metadata": {
        "id": "vVdcHGe3GlNw"
      },
      "execution_count": 83,
      "outputs": []
    },
    {
      "cell_type": "code",
      "source": [
        "importancia_logit = modelo_logistico_std.coef_[0]"
      ],
      "metadata": {
        "id": "gACjMnCmGm0z"
      },
      "execution_count": 84,
      "outputs": []
    },
    {
      "cell_type": "code",
      "source": [
        "for i,v in enumerate(importancia_logit):\n",
        "    print('Variable explicativa No. %0d, Score: %.5f' % (i,v))"
      ],
      "metadata": {
        "colab": {
          "base_uri": "https://localhost:8080/"
        },
        "id": "Ch6-IyJMGqAg",
        "outputId": "59b98bd0-bccc-4acd-f4ea-8dd30febce1f"
      },
      "execution_count": 85,
      "outputs": [
        {
          "output_type": "stream",
          "name": "stdout",
          "text": [
            "Variable explicativa No. 0, Score: 0.05797\n",
            "Variable explicativa No. 1, Score: -0.08466\n",
            "Variable explicativa No. 2, Score: 0.11919\n",
            "Variable explicativa No. 3, Score: 0.48147\n",
            "Variable explicativa No. 4, Score: -0.32747\n",
            "Variable explicativa No. 5, Score: 0.07930\n",
            "Variable explicativa No. 6, Score: -0.15473\n",
            "Variable explicativa No. 7, Score: 1.17450\n",
            "Variable explicativa No. 8, Score: 0.11087\n",
            "Variable explicativa No. 9, Score: -1.48018\n",
            "Variable explicativa No. 10, Score: 0.97317\n",
            "Variable explicativa No. 11, Score: -0.00121\n",
            "Variable explicativa No. 12, Score: 0.03639\n",
            "Variable explicativa No. 13, Score: -0.02025\n",
            "Variable explicativa No. 14, Score: 0.07601\n",
            "Variable explicativa No. 15, Score: -0.24897\n",
            "Variable explicativa No. 16, Score: -0.81194\n",
            "Variable explicativa No. 17, Score: -0.18870\n",
            "Variable explicativa No. 18, Score: 0.16530\n",
            "Variable explicativa No. 19, Score: -0.02531\n"
          ]
        }
      ]
    },
    {
      "cell_type": "code",
      "source": [
        "plt.bar([x for x in range(len(importancia_logit))], importancia_logit)\n",
        "plt.show()"
      ],
      "metadata": {
        "colab": {
          "base_uri": "https://localhost:8080/",
          "height": 265
        },
        "id": "I8aF7s9bGsha",
        "outputId": "fdae49c4-6d84-4d6e-c1e0-3029605b15ca"
      },
      "execution_count": 86,
      "outputs": [
        {
          "output_type": "display_data",
          "data": {
            "text/plain": [
              "<Figure size 432x288 with 1 Axes>"
            ],
            "image/png": "[encoded data removed]"
          },
          "metadata": {
            "needs_background": "light"
          }
        }
      ]
    }
  ]
}