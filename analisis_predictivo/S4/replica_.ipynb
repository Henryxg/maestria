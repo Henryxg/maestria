{
  "cells": [
    {
      "cell_type": "markdown",
      "metadata": {
        "id": "sC7GKX4t7Xtl"
      },
      "source": [
        "# 1. Importe la base de datos de la tarea de la semana 1 (Dummy Data.csv) en Jupyter Notebook."
      ]
    },
    {
      "cell_type": "code",
      "execution_count": 21,
      "metadata": {
        "id": "3_exwSFr8vku"
      },
      "outputs": [],
      "source": [
        "import numpy as np\n",
        "import pandas as pd\n",
        "import matplotlib.pyplot as plt\n",
        "import seaborn as sns\n",
        "\n",
        "import warnings\n",
        "warnings.filterwarnings(\"ignore\")"
      ]
    },
    {
      "cell_type": "code",
      "execution_count": 22,
      "metadata": {
        "id": "SwwDX6tr8xp4"
      },
      "outputs": [],
      "source": [
        "df=pd.read_csv(\"DummyData.csv\")\n",
        "\n",
        "df.dropna(inplace=True )"
      ]
    },
    {
      "cell_type": "markdown",
      "metadata": {
        "id": "SUjNUIMg70ik"
      },
      "source": [
        "# 2. Escoja su variable objetivo y las variables independientes considerando un enfoque de regresión lineal."
      ]
    },
    {
      "cell_type": "code",
      "execution_count": 23,
      "metadata": {
        "id": "4737275e"
      },
      "outputs": [],
      "source": [
        "from sklearn.linear_model import LinearRegression\n",
        "from sklearn.preprocessing import LabelEncoder\n",
        "from sklearn.model_selection import train_test_split"
      ]
    },
    {
      "cell_type": "code",
      "execution_count": 24,
      "metadata": {
        "id": "l7wTfLlH9xx2"
      },
      "outputs": [],
      "source": [
        "var_cuantitativas = df.select_dtypes('number').columns\n",
        "var_cualitativas  =df.select_dtypes('object').columns\n",
        "labelencoder = LabelEncoder()\n",
        "df[var_cualitativas] = df[var_cualitativas].apply(labelencoder.fit_transform)\n",
        "X = df[df.columns.difference(['Sales'])]\n",
        "y = df.Sales"
      ]
    },
    {
      "cell_type": "markdown",
      "metadata": {
        "id": "N_4mgOdm77E5"
      },
      "source": [
        "# 3. Realice un train/test split, separando un 90% de los datos para la submuestra de entrenamiento y 10% para la submuestra de prueba. "
      ]
    },
    {
      "cell_type": "markdown",
      "metadata": {},
      "source": [
        "Dividimos los datos en 90-10 donde el 90% será usado en el training y el 10% en el test."
      ]
    },
    {
      "cell_type": "code",
      "execution_count": 25,
      "metadata": {
        "id": "7u6JHX3B-LFC"
      },
      "outputs": [],
      "source": [
        "X_train , X_test , y_train , y_test = train_test_split(X , y , test_size = 0.10,random_state =123)"
      ]
    },
    {
      "cell_type": "code",
      "execution_count": null,
      "metadata": {
        "id": "l86qvEXa-tmh"
      },
      "outputs": [],
      "source": []
    },
    {
      "cell_type": "code",
      "execution_count": 26,
      "metadata": {
        "colab": {
          "base_uri": "https://localhost:8080/"
        },
        "id": "8382f803",
        "outputId": "49032a49-d8df-4676-dab7-846c3057ce9a"
      },
      "outputs": [
        {
          "name": "stdout",
          "output_type": "stream",
          "text": [
            "(4091, 4)  <class 'pandas.core.frame.DataFrame'>\n",
            "(4091,) \t  <class 'pandas.core.series.Series'>\n",
            "(455, 4)  <class 'pandas.core.frame.DataFrame'>\n",
            "(455,) \t  <class 'pandas.core.series.Series'>\n"
          ]
        }
      ],
      "source": [
        "print(X_train.shape,\"\",type(X_train))\n",
        "print(y_train.shape,\"\\t \",type(y_train))\n",
        "print(X_test.shape,\"\",type(X_test))\n",
        "print(y_test.shape,\"\\t \",type(y_test))"
      ]
    },
    {
      "cell_type": "markdown",
      "metadata": {
        "id": "tieUQeee8DrF"
      },
      "source": [
        "# 4.Entrene al modelo de regresión lineal por sklearn. "
      ]
    },
    {
      "cell_type": "code",
      "execution_count": 27,
      "metadata": {
        "colab": {
          "base_uri": "https://localhost:8080/"
        },
        "id": "w4vKQB8Y-SI2",
        "outputId": "32017ea3-61e5-4773-b023-d9fca41fd70e"
      },
      "outputs": [
        {
          "data": {
            "text/plain": [
              "LinearRegression()"
            ]
          },
          "execution_count": 27,
          "metadata": {},
          "output_type": "execute_result"
        }
      ],
      "source": [
        "modelo_regresion = LinearRegression()\n",
        "modelo_regresion.fit(X_train, y_train ,)"
      ]
    },
    {
      "cell_type": "code",
      "execution_count": 28,
      "metadata": {
        "id": "BsTzhB5LDReL"
      },
      "outputs": [],
      "source": [
        "predicciones_train = modelo_regresion.predict(X_train)\n",
        "predicciones_test = modelo_regresion.predict(X_test)"
      ]
    },
    {
      "cell_type": "markdown",
      "metadata": {
        "id": "sooPjZym8JeE"
      },
      "source": [
        "# 5. Evalúe su modelo. ¿Es este aceptable?, para ello escoja las métricas correspondientes. "
      ]
    },
    {
      "cell_type": "markdown",
      "metadata": {},
      "source": [
        "Según las métricas obtenidas, podemos apreciar que los valores no son muy altos para este entrenamiento se obtuvieron buenos resultados."
      ]
    },
    {
      "cell_type": "code",
      "execution_count": 29,
      "metadata": {
        "id": "y5Sqsfx-DKY1"
      },
      "outputs": [],
      "source": [
        "from sklearn.metrics import mean_squared_error, mean_absolute_error\n",
        "from sklearn.metrics import r2_score"
      ]
    },
    {
      "cell_type": "code",
      "execution_count": 30,
      "metadata": {
        "colab": {
          "base_uri": "https://localhost:8080/"
        },
        "id": "FEN9Y7uGDL8e",
        "outputId": "25946c9c-a0b6-4f42-a683-ca72e3b90093"
      },
      "outputs": [
        {
          "name": "stdout",
          "output_type": "stream",
          "text": [
            "8.653104853739148\n",
            "9.053409318682082\n"
          ]
        }
      ],
      "source": [
        "MSE_train = mean_squared_error(y_train, predicciones_train)\n",
        "MSE_test = mean_squared_error(y_test, predicciones_test)\n",
        "print(MSE_train)\n",
        "print(MSE_test)"
      ]
    },
    {
      "cell_type": "code",
      "execution_count": 31,
      "metadata": {
        "colab": {
          "base_uri": "https://localhost:8080/"
        },
        "id": "O3ZGEsCWDWiK",
        "outputId": "97c2e2da-45b6-4883-f47b-48e76fc8ee1e"
      },
      "outputs": [
        {
          "name": "stdout",
          "output_type": "stream",
          "text": [
            "2.9416160275840126\n",
            "3.008888385879756\n"
          ]
        }
      ],
      "source": [
        "RMSE_train = np.sqrt(MSE_train)\n",
        "RMSE_test = np.sqrt(MSE_test)\n",
        "print(RMSE_train)\n",
        "print(RMSE_test)"
      ]
    },
    {
      "cell_type": "code",
      "execution_count": 32,
      "metadata": {
        "colab": {
          "base_uri": "https://localhost:8080/"
        },
        "id": "H-4CWencDa7r",
        "outputId": "26fb91f8-a8a9-4ef1-c1ee-32d8c4652d95"
      },
      "outputs": [
        {
          "name": "stdout",
          "output_type": "stream",
          "text": [
            "2.3584650397450866\n",
            "2.4201568080736733\n"
          ]
        }
      ],
      "source": [
        "MAE_train = mean_absolute_error(y_train, predicciones_train)\n",
        "MAE_test = mean_absolute_error(y_test, predicciones_test)\n",
        "print(MAE_train)\n",
        "print(MAE_test)"
      ]
    },
    {
      "cell_type": "code",
      "execution_count": 33,
      "metadata": {
        "colab": {
          "base_uri": "https://localhost:8080/"
        },
        "id": "4tr-gX8rDiu5",
        "outputId": "7664fc08-e8ca-4ad8-b270-8af4ff28be69"
      },
      "outputs": [
        {
          "name": "stdout",
          "output_type": "stream",
          "text": [
            "El R^2 del subconjunto de entrenamiento es: 0.9990026991367676\n",
            "El R^2 del subconjunto de prueba es: 0.9989196736539484\n"
          ]
        }
      ],
      "source": [
        "r_square_train = r2_score(y_train, predicciones_train)\n",
        "r_square_test  = r2_score(y_test, predicciones_test)\n",
        "print('El R^2 del subconjunto de entrenamiento es:' , r_square_train)\n",
        "print('El R^2 del subconjunto de prueba es:' , r_square_test)"
      ]
    },
    {
      "cell_type": "markdown",
      "metadata": {
        "id": "0DzLzLYm8NMu"
      },
      "source": [
        "# 6. Compare sus predicciones con los datos reales mediante un gráfico. "
      ]
    },
    {
      "cell_type": "markdown",
      "metadata": {},
      "source": [
        "Se puede apreciar que los valores predichos son muy parecidos a los valores reales por lo tanto el algoritmo se entrenó correctamente."
      ]
    },
    {
      "cell_type": "code",
      "execution_count": 34,
      "metadata": {
        "colab": {
          "base_uri": "https://localhost:8080/",
          "height": 281
        },
        "id": "4RCu1kJaDvCG",
        "outputId": "07e8d56c-9e5f-4a8e-bdc2-1ed62079e631"
      },
      "outputs": [
        {
          "data": {
            "image/png": "[encoded data removed]",
            "text/plain": [
              "<Figure size 432x288 with 1 Axes>"
            ]
          },
          "metadata": {
            "needs_background": "light"
          },
          "output_type": "display_data"
        }
      ],
      "source": [
        "fig, ax = plt.subplots()\n",
        "ax.plot(y_train.values)\n",
        "ax.plot(predicciones_train)\n",
        "plt.title(\"Valores observados vs. predichos en train set\");"
      ]
    },
    {
      "cell_type": "code",
      "execution_count": 35,
      "metadata": {
        "id": "V7heX2X4D3jB"
      },
      "outputs": [
        {
          "data": {
            "image/png": "[encoded data removed]",
            "text/plain": [
              "<Figure size 432x288 with 1 Axes>"
            ]
          },
          "metadata": {
            "needs_background": "light"
          },
          "output_type": "display_data"
        }
      ],
      "source": [
        "fig, ax = plt.subplots()\n",
        "ax.plot(y_test.values)\n",
        "ax.plot(predicciones_test)\n",
        "plt.title(\"Valores observados vs. predichos en test set\");"
      ]
    },
    {
      "cell_type": "code",
      "execution_count": null,
      "metadata": {
        "id": "D41wAgcjEHkS"
      },
      "outputs": [],
      "source": []
    },
    {
      "cell_type": "markdown",
      "metadata": {
        "id": "94W3eU6e8Qz4"
      },
      "source": [
        "# 7. Identifique a las dos variables con  mayor poder explicativo en el modelo ¿Cómo las identificó?"
      ]
    },
    {
      "cell_type": "code",
      "execution_count": 36,
      "metadata": {
        "colab": {
          "base_uri": "https://localhost:8080/"
        },
        "id": "pk-9SearEJJq",
        "outputId": "4126743a-df28-4e59-c7e1-8eac04669cfd"
      },
      "outputs": [
        {
          "data": {
            "text/plain": [
              "LinearRegression()"
            ]
          },
          "execution_count": 36,
          "metadata": {},
          "output_type": "execute_result"
        }
      ],
      "source": [
        "from sklearn.preprocessing import StandardScaler\n",
        "sc = StandardScaler()\n",
        "modelo_regresion_std = LinearRegression()\n",
        "modelo_regresion_std.fit(X_train, y_train)"
      ]
    },
    {
      "cell_type": "code",
      "execution_count": 37,
      "metadata": {
        "id": "YlZwgRQEEUNr"
      },
      "outputs": [],
      "source": [
        "X_train_std = sc.fit_transform(X_train)\n",
        "X_test_std = sc.transform(X_test)"
      ]
    },
    {
      "cell_type": "code",
      "execution_count": 38,
      "metadata": {
        "id": "0b09493f"
      },
      "outputs": [],
      "source": [
        "importancia = modelo_regresion_std.coef_"
      ]
    },
    {
      "cell_type": "code",
      "execution_count": 39,
      "metadata": {
        "colab": {
          "base_uri": "https://localhost:8080/"
        },
        "id": "QN-0qs5KEqww",
        "outputId": "4abcac65-7833-4930-931f-cbd7b5ebf3d7"
      },
      "outputs": [
        {
          "name": "stdout",
          "output_type": "stream",
          "text": [
            "Variable explicativa No. 0, Score: -0.02488\n",
            "Variable explicativa No. 1, Score: -0.00036\n",
            "Variable explicativa No. 2, Score: -0.00085\n",
            "Variable explicativa No. 3, Score: 3.56152\n"
          ]
        }
      ],
      "source": [
        "for i,v in enumerate(importancia):\n",
        "    print('Variable explicativa No. %0d, Score: %.5f' % (i,v))"
      ]
    },
    {
      "cell_type": "code",
      "execution_count": 40,
      "metadata": {
        "colab": {
          "base_uri": "https://localhost:8080/",
          "height": 265
        },
        "id": "X3dfqbMYEwHo",
        "outputId": "7288c6e1-b286-45e1-d5cb-78daf10e66b5"
      },
      "outputs": [
        {
          "data": {
            "image/png": "[encoded data removed]",
            "text/plain": [
              "<Figure size 432x288 with 1 Axes>"
            ]
          },
          "metadata": {
            "needs_background": "light"
          },
          "output_type": "display_data"
        }
      ],
      "source": [
        "plt.bar([x for x in range(len(importancia))], importancia)\n",
        "plt.show()"
      ]
    },
    {
      "cell_type": "markdown",
      "metadata": {
        "id": "9XB408lq8S9u"
      },
      "source": [
        "#1. Importe la base de datos de la tarea de la semana 2 (bank-additional-full)"
      ]
    },
    {
      "cell_type": "code",
      "execution_count": 41,
      "metadata": {
        "colab": {
          "base_uri": "https://localhost:8080/",
          "height": 487
        },
        "id": "HmaK3o95FAvS",
        "outputId": "9f827687-a7e6-4756-8c58-d12b6a43fdcb"
      },
      "outputs": [
        {
          "data": {
            "text/html": [
              "<div>\n",
              "<style scoped>\n",
              "    .dataframe tbody tr th:only-of-type {\n",
              "        vertical-align: middle;\n",
              "    }\n",
              "\n",
              "    .dataframe tbody tr th {\n",
              "        vertical-align: top;\n",
              "    }\n",
              "\n",
              "    .dataframe thead th {\n",
              "        text-align: right;\n",
              "    }\n",
              "</style>\n",
              "<table border=\"1\" class=\"dataframe\">\n",
              "  <thead>\n",
              "    <tr style=\"text-align: right;\">\n",
              "      <th></th>\n",
              "      <th>age</th>\n",
              "      <th>job</th>\n",
              "      <th>marital</th>\n",
              "      <th>education</th>\n",
              "      <th>default</th>\n",
              "      <th>housing</th>\n",
              "      <th>loan</th>\n",
              "      <th>contact</th>\n",
              "      <th>month</th>\n",
              "      <th>day_of_week</th>\n",
              "      <th>...</th>\n",
              "      <th>campaign</th>\n",
              "      <th>pdays</th>\n",
              "      <th>previous</th>\n",
              "      <th>poutcome</th>\n",
              "      <th>emp.var.rate</th>\n",
              "      <th>cons.price.idx</th>\n",
              "      <th>cons.conf.idx</th>\n",
              "      <th>euribor3m</th>\n",
              "      <th>nr.employed</th>\n",
              "      <th>y</th>\n",
              "    </tr>\n",
              "  </thead>\n",
              "  <tbody>\n",
              "    <tr>\n",
              "      <th>0</th>\n",
              "      <td>56</td>\n",
              "      <td>housemaid</td>\n",
              "      <td>married</td>\n",
              "      <td>basic.4y</td>\n",
              "      <td>no</td>\n",
              "      <td>no</td>\n",
              "      <td>no</td>\n",
              "      <td>telephone</td>\n",
              "      <td>may</td>\n",
              "      <td>mon</td>\n",
              "      <td>...</td>\n",
              "      <td>1</td>\n",
              "      <td>999</td>\n",
              "      <td>0</td>\n",
              "      <td>nonexistent</td>\n",
              "      <td>1.1</td>\n",
              "      <td>93.994</td>\n",
              "      <td>-36.4</td>\n",
              "      <td>4.857</td>\n",
              "      <td>5191.0</td>\n",
              "      <td>no</td>\n",
              "    </tr>\n",
              "    <tr>\n",
              "      <th>1</th>\n",
              "      <td>57</td>\n",
              "      <td>services</td>\n",
              "      <td>married</td>\n",
              "      <td>high.school</td>\n",
              "      <td>unknown</td>\n",
              "      <td>no</td>\n",
              "      <td>no</td>\n",
              "      <td>telephone</td>\n",
              "      <td>may</td>\n",
              "      <td>mon</td>\n",
              "      <td>...</td>\n",
              "      <td>1</td>\n",
              "      <td>999</td>\n",
              "      <td>0</td>\n",
              "      <td>nonexistent</td>\n",
              "      <td>1.1</td>\n",
              "      <td>93.994</td>\n",
              "      <td>-36.4</td>\n",
              "      <td>4.857</td>\n",
              "      <td>5191.0</td>\n",
              "      <td>no</td>\n",
              "    </tr>\n",
              "    <tr>\n",
              "      <th>2</th>\n",
              "      <td>37</td>\n",
              "      <td>services</td>\n",
              "      <td>married</td>\n",
              "      <td>high.school</td>\n",
              "      <td>no</td>\n",
              "      <td>yes</td>\n",
              "      <td>no</td>\n",
              "      <td>telephone</td>\n",
              "      <td>may</td>\n",
              "      <td>mon</td>\n",
              "      <td>...</td>\n",
              "      <td>1</td>\n",
              "      <td>999</td>\n",
              "      <td>0</td>\n",
              "      <td>nonexistent</td>\n",
              "      <td>1.1</td>\n",
              "      <td>93.994</td>\n",
              "      <td>-36.4</td>\n",
              "      <td>4.857</td>\n",
              "      <td>5191.0</td>\n",
              "      <td>no</td>\n",
              "    </tr>\n",
              "    <tr>\n",
              "      <th>3</th>\n",
              "      <td>40</td>\n",
              "      <td>admin.</td>\n",
              "      <td>married</td>\n",
              "      <td>basic.6y</td>\n",
              "      <td>no</td>\n",
              "      <td>no</td>\n",
              "      <td>no</td>\n",
              "      <td>telephone</td>\n",
              "      <td>may</td>\n",
              "      <td>mon</td>\n",
              "      <td>...</td>\n",
              "      <td>1</td>\n",
              "      <td>999</td>\n",
              "      <td>0</td>\n",
              "      <td>nonexistent</td>\n",
              "      <td>1.1</td>\n",
              "      <td>93.994</td>\n",
              "      <td>-36.4</td>\n",
              "      <td>4.857</td>\n",
              "      <td>5191.0</td>\n",
              "      <td>no</td>\n",
              "    </tr>\n",
              "    <tr>\n",
              "      <th>4</th>\n",
              "      <td>56</td>\n",
              "      <td>services</td>\n",
              "      <td>married</td>\n",
              "      <td>high.school</td>\n",
              "      <td>no</td>\n",
              "      <td>no</td>\n",
              "      <td>yes</td>\n",
              "      <td>telephone</td>\n",
              "      <td>may</td>\n",
              "      <td>mon</td>\n",
              "      <td>...</td>\n",
              "      <td>1</td>\n",
              "      <td>999</td>\n",
              "      <td>0</td>\n",
              "      <td>nonexistent</td>\n",
              "      <td>1.1</td>\n",
              "      <td>93.994</td>\n",
              "      <td>-36.4</td>\n",
              "      <td>4.857</td>\n",
              "      <td>5191.0</td>\n",
              "      <td>no</td>\n",
              "    </tr>\n",
              "    <tr>\n",
              "      <th>...</th>\n",
              "      <td>...</td>\n",
              "      <td>...</td>\n",
              "      <td>...</td>\n",
              "      <td>...</td>\n",
              "      <td>...</td>\n",
              "      <td>...</td>\n",
              "      <td>...</td>\n",
              "      <td>...</td>\n",
              "      <td>...</td>\n",
              "      <td>...</td>\n",
              "      <td>...</td>\n",
              "      <td>...</td>\n",
              "      <td>...</td>\n",
              "      <td>...</td>\n",
              "      <td>...</td>\n",
              "      <td>...</td>\n",
              "      <td>...</td>\n",
              "      <td>...</td>\n",
              "      <td>...</td>\n",
              "      <td>...</td>\n",
              "      <td>...</td>\n",
              "    </tr>\n",
              "    <tr>\n",
              "      <th>41183</th>\n",
              "      <td>73</td>\n",
              "      <td>retired</td>\n",
              "      <td>married</td>\n",
              "      <td>professional.course</td>\n",
              "      <td>no</td>\n",
              "      <td>yes</td>\n",
              "      <td>no</td>\n",
              "      <td>cellular</td>\n",
              "      <td>nov</td>\n",
              "      <td>fri</td>\n",
              "      <td>...</td>\n",
              "      <td>1</td>\n",
              "      <td>999</td>\n",
              "      <td>0</td>\n",
              "      <td>nonexistent</td>\n",
              "      <td>-1.1</td>\n",
              "      <td>94.767</td>\n",
              "      <td>-50.8</td>\n",
              "      <td>1.028</td>\n",
              "      <td>4963.6</td>\n",
              "      <td>yes</td>\n",
              "    </tr>\n",
              "    <tr>\n",
              "      <th>41184</th>\n",
              "      <td>46</td>\n",
              "      <td>blue-collar</td>\n",
              "      <td>married</td>\n",
              "      <td>professional.course</td>\n",
              "      <td>no</td>\n",
              "      <td>no</td>\n",
              "      <td>no</td>\n",
              "      <td>cellular</td>\n",
              "      <td>nov</td>\n",
              "      <td>fri</td>\n",
              "      <td>...</td>\n",
              "      <td>1</td>\n",
              "      <td>999</td>\n",
              "      <td>0</td>\n",
              "      <td>nonexistent</td>\n",
              "      <td>-1.1</td>\n",
              "      <td>94.767</td>\n",
              "      <td>-50.8</td>\n",
              "      <td>1.028</td>\n",
              "      <td>4963.6</td>\n",
              "      <td>no</td>\n",
              "    </tr>\n",
              "    <tr>\n",
              "      <th>41185</th>\n",
              "      <td>56</td>\n",
              "      <td>retired</td>\n",
              "      <td>married</td>\n",
              "      <td>university.degree</td>\n",
              "      <td>no</td>\n",
              "      <td>yes</td>\n",
              "      <td>no</td>\n",
              "      <td>cellular</td>\n",
              "      <td>nov</td>\n",
              "      <td>fri</td>\n",
              "      <td>...</td>\n",
              "      <td>2</td>\n",
              "      <td>999</td>\n",
              "      <td>0</td>\n",
              "      <td>nonexistent</td>\n",
              "      <td>-1.1</td>\n",
              "      <td>94.767</td>\n",
              "      <td>-50.8</td>\n",
              "      <td>1.028</td>\n",
              "      <td>4963.6</td>\n",
              "      <td>no</td>\n",
              "    </tr>\n",
              "    <tr>\n",
              "      <th>41186</th>\n",
              "      <td>44</td>\n",
              "      <td>technician</td>\n",
              "      <td>married</td>\n",
              "      <td>professional.course</td>\n",
              "      <td>no</td>\n",
              "      <td>no</td>\n",
              "      <td>no</td>\n",
              "      <td>cellular</td>\n",
              "      <td>nov</td>\n",
              "      <td>fri</td>\n",
              "      <td>...</td>\n",
              "      <td>1</td>\n",
              "      <td>999</td>\n",
              "      <td>0</td>\n",
              "      <td>nonexistent</td>\n",
              "      <td>-1.1</td>\n",
              "      <td>94.767</td>\n",
              "      <td>-50.8</td>\n",
              "      <td>1.028</td>\n",
              "      <td>4963.6</td>\n",
              "      <td>yes</td>\n",
              "    </tr>\n",
              "    <tr>\n",
              "      <th>41187</th>\n",
              "      <td>74</td>\n",
              "      <td>retired</td>\n",
              "      <td>married</td>\n",
              "      <td>professional.course</td>\n",
              "      <td>no</td>\n",
              "      <td>yes</td>\n",
              "      <td>no</td>\n",
              "      <td>cellular</td>\n",
              "      <td>nov</td>\n",
              "      <td>fri</td>\n",
              "      <td>...</td>\n",
              "      <td>3</td>\n",
              "      <td>999</td>\n",
              "      <td>1</td>\n",
              "      <td>failure</td>\n",
              "      <td>-1.1</td>\n",
              "      <td>94.767</td>\n",
              "      <td>-50.8</td>\n",
              "      <td>1.028</td>\n",
              "      <td>4963.6</td>\n",
              "      <td>no</td>\n",
              "    </tr>\n",
              "  </tbody>\n",
              "</table>\n",
              "<p>41188 rows × 21 columns</p>\n",
              "</div>"
            ],
            "text/plain": [
              "       age          job  marital            education  default housing loan  \\\n",
              "0       56    housemaid  married             basic.4y       no      no   no   \n",
              "1       57     services  married          high.school  unknown      no   no   \n",
              "2       37     services  married          high.school       no     yes   no   \n",
              "3       40       admin.  married             basic.6y       no      no   no   \n",
              "4       56     services  married          high.school       no      no  yes   \n",
              "...    ...          ...      ...                  ...      ...     ...  ...   \n",
              "41183   73      retired  married  professional.course       no     yes   no   \n",
              "41184   46  blue-collar  married  professional.course       no      no   no   \n",
              "41185   56      retired  married    university.degree       no     yes   no   \n",
              "41186   44   technician  married  professional.course       no      no   no   \n",
              "41187   74      retired  married  professional.course       no     yes   no   \n",
              "\n",
              "         contact month day_of_week  ...  campaign  pdays  previous  \\\n",
              "0      telephone   may         mon  ...         1    999         0   \n",
              "1      telephone   may         mon  ...         1    999         0   \n",
              "2      telephone   may         mon  ...         1    999         0   \n",
              "3      telephone   may         mon  ...         1    999         0   \n",
              "4      telephone   may         mon  ...         1    999         0   \n",
              "...          ...   ...         ...  ...       ...    ...       ...   \n",
              "41183   cellular   nov         fri  ...         1    999         0   \n",
              "41184   cellular   nov         fri  ...         1    999         0   \n",
              "41185   cellular   nov         fri  ...         2    999         0   \n",
              "41186   cellular   nov         fri  ...         1    999         0   \n",
              "41187   cellular   nov         fri  ...         3    999         1   \n",
              "\n",
              "          poutcome emp.var.rate  cons.price.idx  cons.conf.idx  euribor3m  \\\n",
              "0      nonexistent          1.1          93.994          -36.4      4.857   \n",
              "1      nonexistent          1.1          93.994          -36.4      4.857   \n",
              "2      nonexistent          1.1          93.994          -36.4      4.857   \n",
              "3      nonexistent          1.1          93.994          -36.4      4.857   \n",
              "4      nonexistent          1.1          93.994          -36.4      4.857   \n",
              "...            ...          ...             ...            ...        ...   \n",
              "41183  nonexistent         -1.1          94.767          -50.8      1.028   \n",
              "41184  nonexistent         -1.1          94.767          -50.8      1.028   \n",
              "41185  nonexistent         -1.1          94.767          -50.8      1.028   \n",
              "41186  nonexistent         -1.1          94.767          -50.8      1.028   \n",
              "41187      failure         -1.1          94.767          -50.8      1.028   \n",
              "\n",
              "       nr.employed    y  \n",
              "0           5191.0   no  \n",
              "1           5191.0   no  \n",
              "2           5191.0   no  \n",
              "3           5191.0   no  \n",
              "4           5191.0   no  \n",
              "...            ...  ...  \n",
              "41183       4963.6  yes  \n",
              "41184       4963.6   no  \n",
              "41185       4963.6   no  \n",
              "41186       4963.6  yes  \n",
              "41187       4963.6   no  \n",
              "\n",
              "[41188 rows x 21 columns]"
            ]
          },
          "execution_count": 41,
          "metadata": {},
          "output_type": "execute_result"
        }
      ],
      "source": [
        "df=pd.read_csv(\"bank-additional-full.csv\",delimiter= \";\" )\n",
        "\n",
        "df.dropna(inplace=True )\n",
        "df"
      ]
    },
    {
      "cell_type": "markdown",
      "metadata": {
        "id": "1tNISgqT8XA2"
      },
      "source": [
        "# 2.Escoja su variable objetivo y las variables independientes considerando un enfoque de regresión logística. "
      ]
    },
    {
      "cell_type": "markdown",
      "metadata": {},
      "source": [
        "Mi variable dependiente será 'y' y las demás variables son independientes.\n"
      ]
    },
    {
      "cell_type": "code",
      "execution_count": null,
      "metadata": {
        "id": "7pK1LUihF-Rn"
      },
      "outputs": [],
      "source": []
    },
    {
      "cell_type": "code",
      "execution_count": 42,
      "metadata": {
        "id": "dnD28kM5FjQO"
      },
      "outputs": [],
      "source": [
        "var_cuantitativas = df.select_dtypes('number').columns\n",
        "var_cualitativas  =df.select_dtypes('object').columns\n",
        "labelencoder = LabelEncoder()\n",
        "df[var_cualitativas] = df[var_cualitativas].apply(labelencoder.fit_transform)\n",
        "X_logit = df[df.columns.difference(['y'])]\n",
        "y_logit = df.y"
      ]
    },
    {
      "cell_type": "markdown",
      "metadata": {
        "id": "zOKTJs5K8ZpH"
      },
      "source": [
        "# 3.Realice un train/test split, separando un 90% de los datos para la submuestra de entrenamiento y 10% para la submuestra de prueba. "
      ]
    },
    {
      "cell_type": "code",
      "execution_count": 43,
      "metadata": {
        "id": "PR7yt8j6F22x"
      },
      "outputs": [],
      "source": [
        "X_train_logit , X_test_logit , y_train_logit , y_test_logit = train_test_split(X_logit , y_logit , test_size = 0.10,random_state =123)"
      ]
    },
    {
      "cell_type": "code",
      "execution_count": 44,
      "metadata": {
        "colab": {
          "base_uri": "https://localhost:8080/"
        },
        "id": "XMx5rRvvF-_E",
        "outputId": "60e37012-cc27-413a-c509-3b6ac8730d3b"
      },
      "outputs": [
        {
          "name": "stdout",
          "output_type": "stream",
          "text": [
            "(37069, 20)  <class 'pandas.core.frame.DataFrame'>\n",
            "(37069, 20) \t  <class 'pandas.core.series.Series'>\n",
            "(4119, 20)  <class 'pandas.core.frame.DataFrame'>\n",
            "(4119, 20) \t  <class 'pandas.core.series.Series'>\n"
          ]
        }
      ],
      "source": [
        "print(X_train_logit.shape,\"\",type(X_train_logit))\n",
        "print(X_train_logit.shape,\"\\t \",type(y_train_logit))\n",
        "print(X_test_logit.shape,\"\",type(X_test_logit))\n",
        "print(X_test_logit.shape,\"\\t \",type(y_test_logit))"
      ]
    },
    {
      "cell_type": "markdown",
      "metadata": {
        "id": "46fQThgg8fxS"
      },
      "source": [
        "# 4. Entrene al modelo de regresión logística por sklearn. "
      ]
    },
    {
      "cell_type": "code",
      "execution_count": 45,
      "metadata": {
        "id": "VrP0SluXGCPz"
      },
      "outputs": [],
      "source": [
        "from sklearn.linear_model import LogisticRegression"
      ]
    },
    {
      "cell_type": "code",
      "execution_count": 46,
      "metadata": {
        "id": "rydUnZMLGDxm"
      },
      "outputs": [],
      "source": [
        "modelo_logistico = LogisticRegression()\n",
        "modelo_logistico.fit(X_train_logit, y_train_logit)\n",
        "predicciones_train_logit = modelo_logistico.predict(X_train_logit)\n",
        "predicciones_test_logit  = modelo_logistico.predict(X_test_logit)"
      ]
    },
    {
      "cell_type": "markdown",
      "metadata": {
        "id": "vpCfaNMq8lO6"
      },
      "source": [
        "# 5. Evalúe su modelo ¿Es este aceptable? , por ello escoja las métricas correspondientes."
      ]
    },
    {
      "cell_type": "markdown",
      "metadata": {},
      "source": [
        "Según los resultados obtenidos podemos apreciar que la modelo obtuvo un buen entrenamiento. Ya el valor de True positive y true negative es superior a los demás. Con una precisión del  91% los resultados obtenidos son muy buenos."
      ]
    },
    {
      "cell_type": "code",
      "execution_count": 47,
      "metadata": {
        "colab": {
          "base_uri": "https://localhost:8080/"
        },
        "id": "r5R5EIrDGKke",
        "outputId": "abfc305e-b8f6-4b02-a472-5f5e8b8b9854"
      },
      "outputs": [
        {
          "name": "stdout",
          "output_type": "stream",
          "text": [
            "[[3592   79]\n",
            " [ 277  171]]\n"
          ]
        }
      ],
      "source": [
        "from sklearn import metrics\n",
        "from sklearn.metrics import precision_score, recall_score, f1_score\n",
        "cm = metrics.confusion_matrix(y_test_logit, predicciones_test_logit)\n",
        "print(cm)"
      ]
    },
    {
      "cell_type": "code",
      "execution_count": 64,
      "metadata": {},
      "outputs": [
        {
          "data": {
            "text/plain": [
              "0.9135712551590192"
            ]
          },
          "execution_count": 64,
          "metadata": {},
          "output_type": "execute_result"
        }
      ],
      "source": [
        "accurancy= (3592+171)/(3592+79+277+171)\n",
        "accurancy"
      ]
    },
    {
      "cell_type": "code",
      "execution_count": 48,
      "metadata": {
        "colab": {
          "base_uri": "https://localhost:8080/",
          "height": 358
        },
        "id": "tfidmVvDGQke",
        "outputId": "03e20748-2335-439f-fce5-feccb3021aaa"
      },
      "outputs": [
        {
          "data": {
            "image/png": "[encoded data removed]",
            "text/plain": [
              "<Figure size 360x360 with 1 Axes>"
            ]
          },
          "metadata": {
            "needs_background": "light"
          },
          "output_type": "display_data"
        }
      ],
      "source": [
        "fig, ax = plt.subplots(figsize=(5, 5))\n",
        "ax.matshow(cm, cmap=plt.cm.Oranges, alpha=0.3)\n",
        "for i in range(cm.shape[0]):\n",
        "    for j in range(cm.shape[1]):\n",
        "        ax.text(x=j, y=i,s=cm[i, j], va='center', ha='center', size='xx-large')\n",
        " \n",
        "plt.xlabel('Predictions', fontsize=18)\n",
        "plt.ylabel('Actuals', fontsize=18)\n",
        "plt.title('Confusion Matrix', fontsize=18)\n",
        "plt.show()"
      ]
    },
    {
      "cell_type": "markdown",
      "metadata": {
        "id": "08vuMR3V8oGl"
      },
      "source": [
        "# 6. Identifique a las dos variables con mayor poder explicativo en el modelo ¿Cómo las identifico? "
      ]
    },
    {
      "cell_type": "markdown",
      "metadata": {},
      "source": [
        "Segun los resultados obtenidos existen 3 variables con mayor poder explicativo, \"cons.price.idx\" \"duration\" y \"emp.var.rate\". Los resutados los obtubimos mediante feature importance."
      ]
    },
    {
      "cell_type": "code",
      "execution_count": 49,
      "metadata": {
        "id": "SXe2IF1LGUTi"
      },
      "outputs": [],
      "source": [
        "sc_logit = StandardScaler()"
      ]
    },
    {
      "cell_type": "code",
      "execution_count": 50,
      "metadata": {
        "id": "Oulzc7pjGbCo"
      },
      "outputs": [],
      "source": [
        "X_train_std_logit = sc_logit.fit_transform(X_train_logit)\n",
        "X_test_std_logit = sc_logit.transform(X_test_logit)"
      ]
    },
    {
      "cell_type": "code",
      "execution_count": 51,
      "metadata": {
        "colab": {
          "base_uri": "https://localhost:8080/"
        },
        "id": "7jDjVMtJGhzq",
        "outputId": "e275f8fd-162d-49c7-c1bf-d239f83283a6"
      },
      "outputs": [
        {
          "data": {
            "text/plain": [
              "LogisticRegression()"
            ]
          },
          "execution_count": 51,
          "metadata": {},
          "output_type": "execute_result"
        }
      ],
      "source": [
        "modelo_logistico_std = LogisticRegression()\n",
        "modelo_logistico_std.fit(X_train_std_logit, y_train_logit)"
      ]
    },
    {
      "cell_type": "code",
      "execution_count": 52,
      "metadata": {
        "id": "vVdcHGe3GlNw"
      },
      "outputs": [],
      "source": [
        "predicciones_train_logit_std = modelo_logistico_std.predict(X_train_std_logit)\n",
        "predicciones_test_logit_std  = modelo_logistico_std.predict(X_test_std_logit)"
      ]
    },
    {
      "cell_type": "code",
      "execution_count": 53,
      "metadata": {
        "id": "gACjMnCmGm0z"
      },
      "outputs": [],
      "source": [
        "importancia_logit = modelo_logistico_std.coef_[0]"
      ]
    },
    {
      "cell_type": "code",
      "execution_count": 54,
      "metadata": {
        "colab": {
          "base_uri": "https://localhost:8080/"
        },
        "id": "Ch6-IyJMGqAg",
        "outputId": "59b98bd0-bccc-4acd-f4ea-8dd30febce1f"
      },
      "outputs": [
        {
          "name": "stdout",
          "output_type": "stream",
          "text": [
            "Variable explicativa No. 0, Score: 0.05797\n",
            "Variable explicativa No. 1, Score: -0.08466\n",
            "Variable explicativa No. 2, Score: 0.11919\n",
            "Variable explicativa No. 3, Score: 0.48147\n",
            "Variable explicativa No. 4, Score: -0.32747\n",
            "Variable explicativa No. 5, Score: 0.07930\n",
            "Variable explicativa No. 6, Score: -0.15473\n",
            "Variable explicativa No. 7, Score: 1.17450\n",
            "Variable explicativa No. 8, Score: 0.11087\n",
            "Variable explicativa No. 9, Score: -1.48018\n",
            "Variable explicativa No. 10, Score: 0.97317\n",
            "Variable explicativa No. 11, Score: -0.00121\n",
            "Variable explicativa No. 12, Score: 0.03639\n",
            "Variable explicativa No. 13, Score: -0.02025\n",
            "Variable explicativa No. 14, Score: 0.07601\n",
            "Variable explicativa No. 15, Score: -0.24897\n",
            "Variable explicativa No. 16, Score: -0.81194\n",
            "Variable explicativa No. 17, Score: -0.18870\n",
            "Variable explicativa No. 18, Score: 0.16530\n",
            "Variable explicativa No. 19, Score: -0.02531\n"
          ]
        }
      ],
      "source": [
        "for i,v in enumerate(importancia_logit):\n",
        "    print('Variable explicativa No. %0d, Score: %.5f' % (i,v))"
      ]
    },
    {
      "cell_type": "code",
      "execution_count": 55,
      "metadata": {
        "colab": {
          "base_uri": "https://localhost:8080/",
          "height": 265
        },
        "id": "I8aF7s9bGsha",
        "outputId": "fdae49c4-6d84-4d6e-c1e0-3029605b15ca"
      },
      "outputs": [
        {
          "data": {
            "image/png": "[encoded data removed]",
            "text/plain": [
              "<Figure size 432x288 with 1 Axes>"
            ]
          },
          "metadata": {
            "needs_background": "light"
          },
          "output_type": "display_data"
        }
      ],
      "source": [
        "plt.bar([x for x in range(len(importancia_logit))], importancia_logit)\n",
        "plt.show()"
      ]
    },
    {
      "cell_type": "code",
      "execution_count": 61,
      "metadata": {},
      "outputs": [
        {
          "name": "stdout",
          "output_type": "stream",
          "text": [
            "Index(['age', 'campaign', 'cons.conf.idx', 'cons.price.idx', 'contact',\n",
            "       'day_of_week', 'default', 'duration', 'education', 'emp.var.rate',\n",
            "       'euribor3m', 'housing', 'job', 'loan', 'marital', 'month',\n",
            "       'nr.employed', 'pdays', 'poutcome', 'previous'],\n",
            "      dtype='object')\n",
            "cons.price.idx\n",
            "duration\n",
            "emp.var.rate\n"
          ]
        }
      ],
      "source": [
        "print(X_train_logit.columns)\n",
        "print(X_train_logit.columns[3])\n",
        "print(X_train_logit.columns[7])\n",
        "print(X_train_logit.columns[9])\n",
        "\n"
      ]
    }
  ],
  "metadata": {
    "colab": {
      "provenance": []
    },
    "interpreter": {
      "hash": "c629e06671d42d262ce370bbb00ab382667744bfebe13cb1c7262c94987f6270"
    },
    "kernelspec": {
      "display_name": "Python 3.9.12 ('base')",
      "language": "python",
      "name": "python3"
    },
    "language_info": {
      "codemirror_mode": {
        "name": "ipython",
        "version": 3
      },
      "file_extension": ".py",
      "mimetype": "text/x-python",
      "name": "python",
      "nbconvert_exporter": "python",
      "pygments_lexer": "ipython3",
      "version": "3.9.12"
    }
  },
  "nbformat": 4,
  "nbformat_minor": 0
}
