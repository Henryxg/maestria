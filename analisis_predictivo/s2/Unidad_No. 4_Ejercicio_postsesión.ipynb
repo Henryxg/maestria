{
 "cells": [
  {
   "cell_type": "markdown",
   "id": "98c645fc",
   "metadata": {},
   "source": [
    "## Ejercio práctico No. 2"
   ]
  },
  {
   "cell_type": "markdown",
   "id": "3b325fd0",
   "metadata": {},
   "source": [
    "Queridos estudiantes, estamos cerca de cerrar la semana No.2, Felicitaciones!\n",
    "\n",
    "Para efectivamente realizar el cierre necesitamos aplicar el conocimiento adquirido en la presente unidad por lo que a continuación, les presento una base de datos para que obtengan su modelo de regresión logística simple. En la práctica, la regresión multinomial es menos frecuente y en las empresas por lo general encontraremos variables obetivos con dos niveles.\n"
   ]
  },
  {
   "cell_type": "markdown",
   "id": "42a7451a",
   "metadata": {},
   "source": [
    "La base con la que trabajaremos en este ejercicio práctico contiene información bancaria de clientes y de campañas de marketing de un banco de Portugal.\n",
    "Las campañas realizadas se basaron en su mayoría en llamadas telefónicas directas, ofreciendo al cliente del banco realizar un depósito a plazo. Si después de todos los esfuerzos de marketing, el cliente ha accedido a realizar el depósito: la variable de destino fue marcada como 'sí'; de lo contrario, 'no'\n",
    "\n",
    "- edad\n",
    "- tipo de trabajo\n",
    "- esatdo civil\n",
    "- educación\n",
    "- si el cliente entró en no pago o tiene un crédito en default\n",
    "- vivienda propia\n",
    "- si el cliente posee un préstamo , entre otras\n",
    "\n",
    "\n",
    "Es una base que tiene un puntaje de 10/10 en usabilidad, lo que nos indica que es adecuada para el uso de estudiantes y principiantes dado que no tiene grandes problemas en sus datos."
   ]
  },
  {
   "cell_type": "code",
   "execution_count": 228,
   "id": "3e0b49f4",
   "metadata": {},
   "outputs": [],
   "source": [
    "import pandas as pd\n",
    "import seaborn as sns\n",
    "from scipy.stats import poisson\n",
    "import numpy as np\n",
    "import matplotlib.pyplot as plt\n",
    "import pandas as pd\n",
    "\n",
    "from scipy.special import factorial\n",
    "import statsmodels.stats.api as sms\n",
    "import statsmodels.api as sm\n",
    "from statsmodels.formula.api import ols\n",
    "from statsmodels.compat import lzip\n",
    "\n",
    "\n",
    "from scipy.stats import norm\n",
    "from math import sqrt\n",
    "import math\n",
    "import numpy as np\n",
    "from scipy.stats import kstest\n",
    "from scipy.stats import lognorm"
   ]
  },
  {
   "cell_type": "markdown",
   "id": "1daac26b",
   "metadata": {},
   "source": [
    "La locación remota de la base de datos se encuentra en Kaggle en el siguiente link:\n",
    "    https://www.kaggle.com/datasets/volodymyrgavrysh/bank-marketing-campaigns-dataset\n",
    "    \n",
    "Adicionalmente también lo pueden descargar de la interfaz del estudiante."
   ]
  },
  {
   "cell_type": "markdown",
   "id": "2bb4f9c6",
   "metadata": {},
   "source": [
    "# Descripción de los puntos a realizar:"
   ]
  },
  {
   "cell_type": "markdown",
   "id": "5c3023dc",
   "metadata": {},
   "source": [
    "### 1. Importe la base de datos una base al Jupyter Notebook con pandas"
   ]
  },
  {
   "cell_type": "code",
   "execution_count": 229,
   "id": "0868de4e",
   "metadata": {},
   "outputs": [
    {
     "name": "stdout",
     "output_type": "stream",
     "text": [
      "864948\n",
      "(41188, 21)\n"
     ]
    },
    {
     "data": {
      "text/html": [
       "<div>\n",
       "<style scoped>\n",
       "    .dataframe tbody tr th:only-of-type {\n",
       "        vertical-align: middle;\n",
       "    }\n",
       "\n",
       "    .dataframe tbody tr th {\n",
       "        vertical-align: top;\n",
       "    }\n",
       "\n",
       "    .dataframe thead th {\n",
       "        text-align: right;\n",
       "    }\n",
       "</style>\n",
       "<table border=\"1\" class=\"dataframe\">\n",
       "  <thead>\n",
       "    <tr style=\"text-align: right;\">\n",
       "      <th></th>\n",
       "      <th>age</th>\n",
       "      <th>job</th>\n",
       "      <th>marital</th>\n",
       "      <th>education</th>\n",
       "      <th>default</th>\n",
       "      <th>housing</th>\n",
       "      <th>loan</th>\n",
       "      <th>contact</th>\n",
       "      <th>month</th>\n",
       "      <th>day_of_week</th>\n",
       "      <th>...</th>\n",
       "      <th>campaign</th>\n",
       "      <th>pdays</th>\n",
       "      <th>previous</th>\n",
       "      <th>poutcome</th>\n",
       "      <th>emp.var.rate</th>\n",
       "      <th>cons.price.idx</th>\n",
       "      <th>cons.conf.idx</th>\n",
       "      <th>euribor3m</th>\n",
       "      <th>nr.employed</th>\n",
       "      <th>y</th>\n",
       "    </tr>\n",
       "  </thead>\n",
       "  <tbody>\n",
       "    <tr>\n",
       "      <th>0</th>\n",
       "      <td>56</td>\n",
       "      <td>housemaid</td>\n",
       "      <td>married</td>\n",
       "      <td>basic.4y</td>\n",
       "      <td>no</td>\n",
       "      <td>no</td>\n",
       "      <td>no</td>\n",
       "      <td>telephone</td>\n",
       "      <td>may</td>\n",
       "      <td>mon</td>\n",
       "      <td>...</td>\n",
       "      <td>1</td>\n",
       "      <td>999</td>\n",
       "      <td>0</td>\n",
       "      <td>nonexistent</td>\n",
       "      <td>1.1</td>\n",
       "      <td>93.994</td>\n",
       "      <td>-36.4</td>\n",
       "      <td>4.857</td>\n",
       "      <td>5191.0</td>\n",
       "      <td>no</td>\n",
       "    </tr>\n",
       "    <tr>\n",
       "      <th>1</th>\n",
       "      <td>57</td>\n",
       "      <td>services</td>\n",
       "      <td>married</td>\n",
       "      <td>high.school</td>\n",
       "      <td>unknown</td>\n",
       "      <td>no</td>\n",
       "      <td>no</td>\n",
       "      <td>telephone</td>\n",
       "      <td>may</td>\n",
       "      <td>mon</td>\n",
       "      <td>...</td>\n",
       "      <td>1</td>\n",
       "      <td>999</td>\n",
       "      <td>0</td>\n",
       "      <td>nonexistent</td>\n",
       "      <td>1.1</td>\n",
       "      <td>93.994</td>\n",
       "      <td>-36.4</td>\n",
       "      <td>4.857</td>\n",
       "      <td>5191.0</td>\n",
       "      <td>no</td>\n",
       "    </tr>\n",
       "    <tr>\n",
       "      <th>2</th>\n",
       "      <td>37</td>\n",
       "      <td>services</td>\n",
       "      <td>married</td>\n",
       "      <td>high.school</td>\n",
       "      <td>no</td>\n",
       "      <td>yes</td>\n",
       "      <td>no</td>\n",
       "      <td>telephone</td>\n",
       "      <td>may</td>\n",
       "      <td>mon</td>\n",
       "      <td>...</td>\n",
       "      <td>1</td>\n",
       "      <td>999</td>\n",
       "      <td>0</td>\n",
       "      <td>nonexistent</td>\n",
       "      <td>1.1</td>\n",
       "      <td>93.994</td>\n",
       "      <td>-36.4</td>\n",
       "      <td>4.857</td>\n",
       "      <td>5191.0</td>\n",
       "      <td>no</td>\n",
       "    </tr>\n",
       "    <tr>\n",
       "      <th>3</th>\n",
       "      <td>40</td>\n",
       "      <td>admin.</td>\n",
       "      <td>married</td>\n",
       "      <td>basic.6y</td>\n",
       "      <td>no</td>\n",
       "      <td>no</td>\n",
       "      <td>no</td>\n",
       "      <td>telephone</td>\n",
       "      <td>may</td>\n",
       "      <td>mon</td>\n",
       "      <td>...</td>\n",
       "      <td>1</td>\n",
       "      <td>999</td>\n",
       "      <td>0</td>\n",
       "      <td>nonexistent</td>\n",
       "      <td>1.1</td>\n",
       "      <td>93.994</td>\n",
       "      <td>-36.4</td>\n",
       "      <td>4.857</td>\n",
       "      <td>5191.0</td>\n",
       "      <td>no</td>\n",
       "    </tr>\n",
       "    <tr>\n",
       "      <th>4</th>\n",
       "      <td>56</td>\n",
       "      <td>services</td>\n",
       "      <td>married</td>\n",
       "      <td>high.school</td>\n",
       "      <td>no</td>\n",
       "      <td>no</td>\n",
       "      <td>yes</td>\n",
       "      <td>telephone</td>\n",
       "      <td>may</td>\n",
       "      <td>mon</td>\n",
       "      <td>...</td>\n",
       "      <td>1</td>\n",
       "      <td>999</td>\n",
       "      <td>0</td>\n",
       "      <td>nonexistent</td>\n",
       "      <td>1.1</td>\n",
       "      <td>93.994</td>\n",
       "      <td>-36.4</td>\n",
       "      <td>4.857</td>\n",
       "      <td>5191.0</td>\n",
       "      <td>no</td>\n",
       "    </tr>\n",
       "    <tr>\n",
       "      <th>...</th>\n",
       "      <td>...</td>\n",
       "      <td>...</td>\n",
       "      <td>...</td>\n",
       "      <td>...</td>\n",
       "      <td>...</td>\n",
       "      <td>...</td>\n",
       "      <td>...</td>\n",
       "      <td>...</td>\n",
       "      <td>...</td>\n",
       "      <td>...</td>\n",
       "      <td>...</td>\n",
       "      <td>...</td>\n",
       "      <td>...</td>\n",
       "      <td>...</td>\n",
       "      <td>...</td>\n",
       "      <td>...</td>\n",
       "      <td>...</td>\n",
       "      <td>...</td>\n",
       "      <td>...</td>\n",
       "      <td>...</td>\n",
       "      <td>...</td>\n",
       "    </tr>\n",
       "    <tr>\n",
       "      <th>41183</th>\n",
       "      <td>73</td>\n",
       "      <td>retired</td>\n",
       "      <td>married</td>\n",
       "      <td>professional.course</td>\n",
       "      <td>no</td>\n",
       "      <td>yes</td>\n",
       "      <td>no</td>\n",
       "      <td>cellular</td>\n",
       "      <td>nov</td>\n",
       "      <td>fri</td>\n",
       "      <td>...</td>\n",
       "      <td>1</td>\n",
       "      <td>999</td>\n",
       "      <td>0</td>\n",
       "      <td>nonexistent</td>\n",
       "      <td>-1.1</td>\n",
       "      <td>94.767</td>\n",
       "      <td>-50.8</td>\n",
       "      <td>1.028</td>\n",
       "      <td>4963.6</td>\n",
       "      <td>yes</td>\n",
       "    </tr>\n",
       "    <tr>\n",
       "      <th>41184</th>\n",
       "      <td>46</td>\n",
       "      <td>blue-collar</td>\n",
       "      <td>married</td>\n",
       "      <td>professional.course</td>\n",
       "      <td>no</td>\n",
       "      <td>no</td>\n",
       "      <td>no</td>\n",
       "      <td>cellular</td>\n",
       "      <td>nov</td>\n",
       "      <td>fri</td>\n",
       "      <td>...</td>\n",
       "      <td>1</td>\n",
       "      <td>999</td>\n",
       "      <td>0</td>\n",
       "      <td>nonexistent</td>\n",
       "      <td>-1.1</td>\n",
       "      <td>94.767</td>\n",
       "      <td>-50.8</td>\n",
       "      <td>1.028</td>\n",
       "      <td>4963.6</td>\n",
       "      <td>no</td>\n",
       "    </tr>\n",
       "    <tr>\n",
       "      <th>41185</th>\n",
       "      <td>56</td>\n",
       "      <td>retired</td>\n",
       "      <td>married</td>\n",
       "      <td>university.degree</td>\n",
       "      <td>no</td>\n",
       "      <td>yes</td>\n",
       "      <td>no</td>\n",
       "      <td>cellular</td>\n",
       "      <td>nov</td>\n",
       "      <td>fri</td>\n",
       "      <td>...</td>\n",
       "      <td>2</td>\n",
       "      <td>999</td>\n",
       "      <td>0</td>\n",
       "      <td>nonexistent</td>\n",
       "      <td>-1.1</td>\n",
       "      <td>94.767</td>\n",
       "      <td>-50.8</td>\n",
       "      <td>1.028</td>\n",
       "      <td>4963.6</td>\n",
       "      <td>no</td>\n",
       "    </tr>\n",
       "    <tr>\n",
       "      <th>41186</th>\n",
       "      <td>44</td>\n",
       "      <td>technician</td>\n",
       "      <td>married</td>\n",
       "      <td>professional.course</td>\n",
       "      <td>no</td>\n",
       "      <td>no</td>\n",
       "      <td>no</td>\n",
       "      <td>cellular</td>\n",
       "      <td>nov</td>\n",
       "      <td>fri</td>\n",
       "      <td>...</td>\n",
       "      <td>1</td>\n",
       "      <td>999</td>\n",
       "      <td>0</td>\n",
       "      <td>nonexistent</td>\n",
       "      <td>-1.1</td>\n",
       "      <td>94.767</td>\n",
       "      <td>-50.8</td>\n",
       "      <td>1.028</td>\n",
       "      <td>4963.6</td>\n",
       "      <td>yes</td>\n",
       "    </tr>\n",
       "    <tr>\n",
       "      <th>41187</th>\n",
       "      <td>74</td>\n",
       "      <td>retired</td>\n",
       "      <td>married</td>\n",
       "      <td>professional.course</td>\n",
       "      <td>no</td>\n",
       "      <td>yes</td>\n",
       "      <td>no</td>\n",
       "      <td>cellular</td>\n",
       "      <td>nov</td>\n",
       "      <td>fri</td>\n",
       "      <td>...</td>\n",
       "      <td>3</td>\n",
       "      <td>999</td>\n",
       "      <td>1</td>\n",
       "      <td>failure</td>\n",
       "      <td>-1.1</td>\n",
       "      <td>94.767</td>\n",
       "      <td>-50.8</td>\n",
       "      <td>1.028</td>\n",
       "      <td>4963.6</td>\n",
       "      <td>no</td>\n",
       "    </tr>\n",
       "  </tbody>\n",
       "</table>\n",
       "<p>41188 rows × 21 columns</p>\n",
       "</div>"
      ],
      "text/plain": [
       "       age          job  marital            education  default housing loan  \\\n",
       "0       56    housemaid  married             basic.4y       no      no   no   \n",
       "1       57     services  married          high.school  unknown      no   no   \n",
       "2       37     services  married          high.school       no     yes   no   \n",
       "3       40       admin.  married             basic.6y       no      no   no   \n",
       "4       56     services  married          high.school       no      no  yes   \n",
       "...    ...          ...      ...                  ...      ...     ...  ...   \n",
       "41183   73      retired  married  professional.course       no     yes   no   \n",
       "41184   46  blue-collar  married  professional.course       no      no   no   \n",
       "41185   56      retired  married    university.degree       no     yes   no   \n",
       "41186   44   technician  married  professional.course       no      no   no   \n",
       "41187   74      retired  married  professional.course       no     yes   no   \n",
       "\n",
       "         contact month day_of_week  ...  campaign  pdays  previous  \\\n",
       "0      telephone   may         mon  ...         1    999         0   \n",
       "1      telephone   may         mon  ...         1    999         0   \n",
       "2      telephone   may         mon  ...         1    999         0   \n",
       "3      telephone   may         mon  ...         1    999         0   \n",
       "4      telephone   may         mon  ...         1    999         0   \n",
       "...          ...   ...         ...  ...       ...    ...       ...   \n",
       "41183   cellular   nov         fri  ...         1    999         0   \n",
       "41184   cellular   nov         fri  ...         1    999         0   \n",
       "41185   cellular   nov         fri  ...         2    999         0   \n",
       "41186   cellular   nov         fri  ...         1    999         0   \n",
       "41187   cellular   nov         fri  ...         3    999         1   \n",
       "\n",
       "          poutcome emp.var.rate  cons.price.idx  cons.conf.idx  euribor3m  \\\n",
       "0      nonexistent          1.1          93.994          -36.4      4.857   \n",
       "1      nonexistent          1.1          93.994          -36.4      4.857   \n",
       "2      nonexistent          1.1          93.994          -36.4      4.857   \n",
       "3      nonexistent          1.1          93.994          -36.4      4.857   \n",
       "4      nonexistent          1.1          93.994          -36.4      4.857   \n",
       "...            ...          ...             ...            ...        ...   \n",
       "41183  nonexistent         -1.1          94.767          -50.8      1.028   \n",
       "41184  nonexistent         -1.1          94.767          -50.8      1.028   \n",
       "41185  nonexistent         -1.1          94.767          -50.8      1.028   \n",
       "41186  nonexistent         -1.1          94.767          -50.8      1.028   \n",
       "41187      failure         -1.1          94.767          -50.8      1.028   \n",
       "\n",
       "       nr.employed    y  \n",
       "0           5191.0   no  \n",
       "1           5191.0   no  \n",
       "2           5191.0   no  \n",
       "3           5191.0   no  \n",
       "4           5191.0   no  \n",
       "...            ...  ...  \n",
       "41183       4963.6  yes  \n",
       "41184       4963.6   no  \n",
       "41185       4963.6   no  \n",
       "41186       4963.6  yes  \n",
       "41187       4963.6   no  \n",
       "\n",
       "[41188 rows x 21 columns]"
      ]
     },
     "execution_count": 229,
     "metadata": {},
     "output_type": "execute_result"
    }
   ],
   "source": [
    "df = pd.read_csv(\"/media/henryx/alldata/Maestri/maestria/analisis_predictivo/s2/bank-additional-full.csv\", sep= \";\")\n",
    "print(df.size)\n",
    "print(df.shape)\n",
    "df"
   ]
  },
  {
   "cell_type": "markdown",
   "id": "d51979ef",
   "metadata": {},
   "source": [
    "### 2. Obtenga los descriptivos resumen de la base de datos e identifique a las variables numéricas y categóricas. ¿Hay algo que les llame la atención?"
   ]
  },
  {
   "cell_type": "markdown",
   "id": "3a411011",
   "metadata": {},
   "source": [
    "Podemos \n",
    "cat_field=[i.values for i in df.dtypes if i is np.dtype('object') ] \n",
    "cat_field\n"
   ]
  },
  {
   "cell_type": "code",
   "execution_count": 230,
   "id": "a18b1a34",
   "metadata": {},
   "outputs": [
    {
     "name": "stdout",
     "output_type": "stream",
     "text": [
      "Index(['age', 'job', 'marital', 'education', 'default', 'housing', 'loan',\n",
      "       'contact', 'month', 'day_of_week', 'duration', 'campaign', 'pdays',\n",
      "       'previous', 'poutcome', 'emp.var.rate', 'cons.price.idx',\n",
      "       'cons.conf.idx', 'euribor3m', 'nr.employed', 'y'],\n",
      "      dtype='object')\n",
      "               age      duration      campaign         pdays      previous  \\\n",
      "count  41188.00000  41188.000000  41188.000000  41188.000000  41188.000000   \n",
      "mean      40.02406    258.285010      2.567593    962.475454      0.172963   \n",
      "std       10.42125    259.279249      2.770014    186.910907      0.494901   \n",
      "min       17.00000      0.000000      1.000000      0.000000      0.000000   \n",
      "25%       32.00000    102.000000      1.000000    999.000000      0.000000   \n",
      "50%       38.00000    180.000000      2.000000    999.000000      0.000000   \n",
      "75%       47.00000    319.000000      3.000000    999.000000      0.000000   \n",
      "max       98.00000   4918.000000     56.000000    999.000000      7.000000   \n",
      "\n",
      "       emp.var.rate  cons.price.idx  cons.conf.idx     euribor3m   nr.employed  \n",
      "count  41188.000000    41188.000000   41188.000000  41188.000000  41188.000000  \n",
      "mean       0.081886       93.575664     -40.502600      3.621291   5167.035911  \n",
      "std        1.570960        0.578840       4.628198      1.734447     72.251528  \n",
      "min       -3.400000       92.201000     -50.800000      0.634000   4963.600000  \n",
      "25%       -1.800000       93.075000     -42.700000      1.344000   5099.100000  \n",
      "50%        1.100000       93.749000     -41.800000      4.857000   5191.000000  \n",
      "75%        1.400000       93.994000     -36.400000      4.961000   5228.100000  \n",
      "max        1.400000       94.767000     -26.900000      5.045000   5228.100000  \n",
      "age                 int64\n",
      "job                object\n",
      "marital            object\n",
      "education          object\n",
      "default            object\n",
      "housing            object\n",
      "loan               object\n",
      "contact            object\n",
      "month              object\n",
      "day_of_week        object\n",
      "duration            int64\n",
      "campaign            int64\n",
      "pdays               int64\n",
      "previous            int64\n",
      "poutcome           object\n",
      "emp.var.rate      float64\n",
      "cons.price.idx    float64\n",
      "cons.conf.idx     float64\n",
      "euribor3m         float64\n",
      "nr.employed       float64\n",
      "y                  object\n",
      "dtype: object\n"
     ]
    },
    {
     "data": {
      "text/plain": [
       "age                 int64\n",
       "job                object\n",
       "marital            object\n",
       "education          object\n",
       "default            object\n",
       "housing            object\n",
       "loan               object\n",
       "contact            object\n",
       "month              object\n",
       "day_of_week        object\n",
       "duration            int64\n",
       "campaign            int64\n",
       "pdays               int64\n",
       "previous            int64\n",
       "poutcome           object\n",
       "emp.var.rate      float64\n",
       "cons.price.idx    float64\n",
       "cons.conf.idx     float64\n",
       "euribor3m         float64\n",
       "nr.employed       float64\n",
       "y                  object\n",
       "dtype: object"
      ]
     },
     "execution_count": 230,
     "metadata": {},
     "output_type": "execute_result"
    }
   ],
   "source": [
    "\n",
    "print(df.columns)\n",
    "print(df.describe())\n",
    "print(df.dtypes)\n",
    "\n",
    "\n",
    "df.dtypes"
   ]
  },
  {
   "cell_type": "markdown",
   "id": "1c07c0f3",
   "metadata": {},
   "source": [
    "podeasd.."
   ]
  },
  {
   "cell_type": "code",
   "execution_count": 231,
   "id": "d8e7f1b8",
   "metadata": {},
   "outputs": [
    {
     "name": "stdout",
     "output_type": "stream",
     "text": [
      "lista de variables categoricas ['job', 'marital', 'education', 'default', 'housing', 'loan', 'contact', 'month', 'day_of_week', 'poutcome', 'y']\n",
      "lista de variables cuantitativas  ['age', 'duration', 'campaign', 'pdays', 'previous', 'emp.var.rate', 'cons.price.idx', 'cons.conf.idx', 'euribor3m', 'nr.employed']\n"
     ]
    }
   ],
   "source": [
    "df[df.columns[1]].dtypes is np.dtype(object)\n",
    "cat_field=[i for i in df.columns if df[i].dtypes is np.dtype(object) ] \n",
    "quan_field=[i for i in df.columns if df[i].dtypes is not np.dtype(object) ] \n",
    "print(\"lista de variables categoricas \" + str(cat_field) )\n",
    "print(\"lista de variables cuantitativas  \"+ str(quan_field))"
   ]
  },
  {
   "cell_type": "markdown",
   "id": "db7e1e31",
   "metadata": {},
   "source": [
    "### 3. Evalúe si la base contiene datos perdidos. ¿Son efecivamente datos perdidos? "
   ]
  },
  {
   "cell_type": "code",
   "execution_count": 232,
   "id": "4cc8f30b",
   "metadata": {},
   "outputs": [
    {
     "name": "stdout",
     "output_type": "stream",
     "text": [
      "age               0\n",
      "job               0\n",
      "marital           0\n",
      "education         0\n",
      "default           0\n",
      "housing           0\n",
      "loan              0\n",
      "contact           0\n",
      "month             0\n",
      "day_of_week       0\n",
      "duration          0\n",
      "campaign          0\n",
      "pdays             0\n",
      "previous          0\n",
      "poutcome          0\n",
      "emp.var.rate      0\n",
      "cons.price.idx    0\n",
      "cons.conf.idx     0\n",
      "euribor3m         0\n",
      "nr.employed       0\n",
      "y                 0\n",
      "dtype: int64\n"
     ]
    },
    {
     "data": {
      "text/plain": [
       "<AxesSubplot:>"
      ]
     },
     "execution_count": 232,
     "metadata": {},
     "output_type": "execute_result"
    },
    {
     "data": {
      "image/png": "[encoded data removed]",
      "text/plain": [
       "<Figure size 432x288 with 1 Axes>"
      ]
     },
     "metadata": {
      "needs_background": "light"
     },
     "output_type": "display_data"
    }
   ],
   "source": [
    "print(df.isnull().sum())\n",
    "\n",
    "# la base si contiene datos perdidos en total 26. \n",
    "sns.heatmap(df.isnull(), cbar=False)"
   ]
  },
  {
   "cell_type": "markdown",
   "id": "d6442e0f",
   "metadata": {},
   "source": [
    "Aparentemente lo existen datos nulos, si envargo econtramos datos tipeados como 'unknown'. "
   ]
  },
  {
   "cell_type": "code",
   "execution_count": 233,
   "id": "347913db",
   "metadata": {},
   "outputs": [
    {
     "data": {
      "text/plain": [
       "<AxesSubplot:>"
      ]
     },
     "execution_count": 233,
     "metadata": {},
     "output_type": "execute_result"
    },
    {
     "data": {
      "image/png": "[encoded data removed]",
      "text/plain": [
       "<Figure size 432x288 with 1 Axes>"
      ]
     },
     "metadata": {
      "needs_background": "light"
     },
     "output_type": "display_data"
    }
   ],
   "source": [
    "\n",
    "sns.heatmap(df[cat_field] == 'unknown' , cbar=False)"
   ]
  },
  {
   "cell_type": "code",
   "execution_count": 234,
   "id": "8df8df19",
   "metadata": {},
   "outputs": [
    {
     "data": {
      "text/plain": [
       "no         32588\n",
       "unknown     8597\n",
       "yes            3\n",
       "Name: default, dtype: int64"
      ]
     },
     "execution_count": 234,
     "metadata": {},
     "output_type": "execute_result"
    }
   ],
   "source": [
    "df['default'].value_counts()"
   ]
  },
  {
   "cell_type": "markdown",
   "id": "b3ba8c4f",
   "metadata": {},
   "source": [
    "Se puede apreciar que si existe un gran cantidad de valores 'unkown' es especial en la varible 'default'. Como el nuero de valores 'unkown' es representativo no tomare encuenta esta variable. "
   ]
  },
  {
   "cell_type": "markdown",
   "id": "3f4fda66",
   "metadata": {},
   "source": [
    "### 4. Evalúe si alguna de las variables contiene datos atípicos (outliers). \n",
    "- De ser el caso detalle cuáles y qué método estadístico aplicarán para corregir"
   ]
  },
  {
   "cell_type": "code",
   "execution_count": 235,
   "id": "ef629254",
   "metadata": {},
   "outputs": [
    {
     "data": {
      "image/png": "[encoded data removed]",
      "text/plain": [
       "<Figure size 1800x288 with 1 Axes>"
      ]
     },
     "metadata": {
      "needs_background": "light"
     },
     "output_type": "display_data"
    }
   ],
   "source": [
    "plt.figure(figsize=(25,4))\n",
    "sns.boxplot(data= df[quan_field] ) \n",
    "plt.show()"
   ]
  },
  {
   "cell_type": "markdown",
   "id": "6f446f61",
   "metadata": {},
   "source": [
    "Efectivamente si existe valor atípicos lo en especial en la variable 'duración' como son un número representativo no podemos eliminarlos y reemplazar por un estimador como la media o la mediana podría traer errores al modelo de predicción por esta razon tambien retiro de nuestro estudio a la variable \"duration\""
   ]
  },
  {
   "cell_type": "code",
   "execution_count": 236,
   "id": "7475cb91",
   "metadata": {},
   "outputs": [
    {
     "data": {
      "image/png": "[encoded data removed]",
      "text/plain": [
       "<Figure size 1800x720 with 1 Axes>"
      ]
     },
     "metadata": {
      "needs_background": "light"
     },
     "output_type": "display_data"
    }
   ],
   "source": [
    "quan_field.remove('duration') if 'duration' in quan_field else None\n",
    "df= df.drop(columns= 'duration')\n",
    "plt.figure(figsize=(25,10))\n",
    "sns.boxplot(data= df[quan_field] ) \n",
    "plt.show()\n"
   ]
  },
  {
   "cell_type": "markdown",
   "id": "ddd6ad35",
   "metadata": {},
   "source": [
    "Se pude observar que tambien existen valores atipicos en la variable 'pdays'. Segun el dictionary pdays: number of days that passed by after the client was last contacted from a previous campaign(numeric; 999 means client was not previously contacted)) Por lo cual dejare el la variable para el modelo."
   ]
  },
  {
   "cell_type": "markdown",
   "id": "3baff816",
   "metadata": {},
   "source": [
    "### 5. Grafique las distribuciones de las variables y a priori comente sobre ellas"
   ]
  },
  {
   "cell_type": "code",
   "execution_count": 237,
   "id": "2bfb5d81",
   "metadata": {},
   "outputs": [
    {
     "name": "stdout",
     "output_type": "stream",
     "text": [
      "age\n"
     ]
    },
    {
     "data": {
      "image/png": "[encoded data removed]",
      "text/plain": [
       "<Figure size 2880x288 with 8 Axes>"
      ]
     },
     "metadata": {
      "needs_background": "light"
     },
     "output_type": "display_data"
    }
   ],
   "source": [
    "def pot(j, colkm):\n",
    "    i  = int((4+j)/4) \n",
    "    j= j+1\n",
    "    plt.subplot(i,8,j+1)\n",
    "    plt.title(str(colkm)+\" distribution\")\n",
    "    sns.kdeplot(df[colkm], shade=\"true\", label=\"Observed\", color = 'orange')\n",
    "    plt.legend()\n",
    "    plt.xlabel(colkm)\n",
    "\n",
    "print(quan_field[0])\n",
    "plt.figure(figsize=(40,4))\n",
    "pot(0, quan_field[0])\n",
    "pot(1, quan_field[1])\n",
    "pot(2, quan_field[2])\n",
    "pot(3, quan_field[3])\n",
    "pot(4, quan_field[4])\n",
    "pot(5, quan_field[5])\n",
    "pot(6, quan_field[6])\n",
    "pot(7, quan_field[7])\n",
    "plt.show()\n"
   ]
  },
  {
   "cell_type": "markdown",
   "id": "0fc29875",
   "metadata": {},
   "source": [
    "Podemos observar que existe una gran dispercion de los datos en todas las variables numericas, en especial en las variables emp.var.rate, cons.price.idx cos.conf.idx. "
   ]
  },
  {
   "cell_type": "markdown",
   "id": "ecd4d74b",
   "metadata": {},
   "source": [
    "### 6. Obtenga las correlaciones entre los datos de corte numérico"
   ]
  },
  {
   "cell_type": "code",
   "execution_count": 238,
   "id": "22f83e49",
   "metadata": {},
   "outputs": [
    {
     "name": "stdout",
     "output_type": "stream",
     "text": [
      "Index(['age', 'job', 'marital', 'education', 'default', 'housing', 'loan',\n",
      "       'contact', 'month', 'day_of_week', 'campaign', 'pdays', 'previous',\n",
      "       'poutcome', 'emp.var.rate', 'cons.price.idx', 'cons.conf.idx',\n",
      "       'euribor3m', 'nr.employed', 'y'],\n",
      "      dtype='object')\n"
     ]
    },
    {
     "data": {
      "text/html": [
       "<style type=\"text/css\">\n",
       "#T_db8cd_row0_col0, #T_db8cd_row1_col1, #T_db8cd_row2_col2, #T_db8cd_row3_col3, #T_db8cd_row4_col4, #T_db8cd_row5_col5, #T_db8cd_row6_col6, #T_db8cd_row7_col7, #T_db8cd_row8_col8 {\n",
       "  background-color: #b40426;\n",
       "  color: #f1f1f1;\n",
       "}\n",
       "#T_db8cd_row0_col1 {\n",
       "  background-color: #516ddb;\n",
       "  color: #f1f1f1;\n",
       "}\n",
       "#T_db8cd_row0_col2 {\n",
       "  background-color: #afcafc;\n",
       "  color: #000000;\n",
       "}\n",
       "#T_db8cd_row0_col3 {\n",
       "  background-color: #bbd1f8;\n",
       "  color: #000000;\n",
       "}\n",
       "#T_db8cd_row0_col4 {\n",
       "  background-color: #9dbdff;\n",
       "  color: #000000;\n",
       "}\n",
       "#T_db8cd_row0_col5 {\n",
       "  background-color: #7093f3;\n",
       "  color: #f1f1f1;\n",
       "}\n",
       "#T_db8cd_row0_col6 {\n",
       "  background-color: #7b9ff9;\n",
       "  color: #f1f1f1;\n",
       "}\n",
       "#T_db8cd_row0_col7, #T_db8cd_row1_col3 {\n",
       "  background-color: #a5c3fe;\n",
       "  color: #000000;\n",
       "}\n",
       "#T_db8cd_row0_col8 {\n",
       "  background-color: #a6c4fe;\n",
       "  color: #000000;\n",
       "}\n",
       "#T_db8cd_row1_col0, #T_db8cd_row3_col6 {\n",
       "  background-color: #455cce;\n",
       "  color: #f1f1f1;\n",
       "}\n",
       "#T_db8cd_row1_col2, #T_db8cd_row1_col7 {\n",
       "  background-color: #c1d4f4;\n",
       "  color: #000000;\n",
       "}\n",
       "#T_db8cd_row1_col4, #T_db8cd_row6_col8 {\n",
       "  background-color: #c0d4f5;\n",
       "  color: #000000;\n",
       "}\n",
       "#T_db8cd_row1_col5 {\n",
       "  background-color: #96b7ff;\n",
       "  color: #000000;\n",
       "}\n",
       "#T_db8cd_row1_col6 {\n",
       "  background-color: #506bda;\n",
       "  color: #f1f1f1;\n",
       "}\n",
       "#T_db8cd_row1_col8 {\n",
       "  background-color: #cad8ef;\n",
       "  color: #000000;\n",
       "}\n",
       "#T_db8cd_row2_col0, #T_db8cd_row2_col3, #T_db8cd_row2_col6, #T_db8cd_row3_col1, #T_db8cd_row3_col2, #T_db8cd_row3_col4, #T_db8cd_row3_col5, #T_db8cd_row3_col7, #T_db8cd_row3_col8 {\n",
       "  background-color: #3b4cc0;\n",
       "  color: #f1f1f1;\n",
       "}\n",
       "#T_db8cd_row2_col1 {\n",
       "  background-color: #6180e9;\n",
       "  color: #f1f1f1;\n",
       "}\n",
       "#T_db8cd_row2_col4 {\n",
       "  background-color: #d9dce1;\n",
       "  color: #000000;\n",
       "}\n",
       "#T_db8cd_row2_col5 {\n",
       "  background-color: #88abfd;\n",
       "  color: #000000;\n",
       "}\n",
       "#T_db8cd_row2_col7 {\n",
       "  background-color: #e1dad6;\n",
       "  color: #000000;\n",
       "}\n",
       "#T_db8cd_row2_col8 {\n",
       "  background-color: #efcebd;\n",
       "  color: #000000;\n",
       "}\n",
       "#T_db8cd_row3_col0 {\n",
       "  background-color: #4b64d5;\n",
       "  color: #f1f1f1;\n",
       "}\n",
       "#T_db8cd_row4_col0, #T_db8cd_row5_col0 {\n",
       "  background-color: #445acc;\n",
       "  color: #f1f1f1;\n",
       "}\n",
       "#T_db8cd_row4_col1 {\n",
       "  background-color: #80a3fa;\n",
       "  color: #f1f1f1;\n",
       "}\n",
       "#T_db8cd_row4_col2 {\n",
       "  background-color: #e7d7ce;\n",
       "  color: #000000;\n",
       "}\n",
       "#T_db8cd_row4_col3 {\n",
       "  background-color: #5a78e4;\n",
       "  color: #f1f1f1;\n",
       "}\n",
       "#T_db8cd_row4_col5 {\n",
       "  background-color: #eb7d62;\n",
       "  color: #f1f1f1;\n",
       "}\n",
       "#T_db8cd_row4_col6 {\n",
       "  background-color: #92b4fe;\n",
       "  color: #000000;\n",
       "}\n",
       "#T_db8cd_row4_col7 {\n",
       "  background-color: #ba162b;\n",
       "  color: #f1f1f1;\n",
       "}\n",
       "#T_db8cd_row4_col8 {\n",
       "  background-color: #ca3b37;\n",
       "  color: #f1f1f1;\n",
       "}\n",
       "#T_db8cd_row5_col1 {\n",
       "  background-color: #799cf8;\n",
       "  color: #f1f1f1;\n",
       "}\n",
       "#T_db8cd_row5_col2 {\n",
       "  background-color: #c6d6f1;\n",
       "  color: #000000;\n",
       "}\n",
       "#T_db8cd_row5_col3 {\n",
       "  background-color: #89acfd;\n",
       "  color: #000000;\n",
       "}\n",
       "#T_db8cd_row5_col4 {\n",
       "  background-color: #e57058;\n",
       "  color: #f1f1f1;\n",
       "}\n",
       "#T_db8cd_row5_col6 {\n",
       "  background-color: #6687ed;\n",
       "  color: #f1f1f1;\n",
       "}\n",
       "#T_db8cd_row5_col7 {\n",
       "  background-color: #f08a6c;\n",
       "  color: #f1f1f1;\n",
       "}\n",
       "#T_db8cd_row5_col8 {\n",
       "  background-color: #f7b396;\n",
       "  color: #000000;\n",
       "}\n",
       "#T_db8cd_row6_col0 {\n",
       "  background-color: #6c8ff1;\n",
       "  color: #f1f1f1;\n",
       "}\n",
       "#T_db8cd_row6_col1 {\n",
       "  background-color: #4c66d6;\n",
       "  color: #f1f1f1;\n",
       "}\n",
       "#T_db8cd_row6_col2 {\n",
       "  background-color: #a3c2fe;\n",
       "  color: #000000;\n",
       "}\n",
       "#T_db8cd_row6_col3, #T_db8cd_row7_col6 {\n",
       "  background-color: #abc8fd;\n",
       "  color: #000000;\n",
       "}\n",
       "#T_db8cd_row6_col4 {\n",
       "  background-color: #cbd8ee;\n",
       "  color: #000000;\n",
       "}\n",
       "#T_db8cd_row6_col5 {\n",
       "  background-color: #81a4fb;\n",
       "  color: #f1f1f1;\n",
       "}\n",
       "#T_db8cd_row6_col7 {\n",
       "  background-color: #dddcdc;\n",
       "  color: #000000;\n",
       "}\n",
       "#T_db8cd_row7_col0 {\n",
       "  background-color: #485fd1;\n",
       "  color: #f1f1f1;\n",
       "}\n",
       "#T_db8cd_row7_col1 {\n",
       "  background-color: #7a9df8;\n",
       "  color: #f1f1f1;\n",
       "}\n",
       "#T_db8cd_row7_col2 {\n",
       "  background-color: #ead4c8;\n",
       "  color: #000000;\n",
       "}\n",
       "#T_db8cd_row7_col3 {\n",
       "  background-color: #5470de;\n",
       "  color: #f1f1f1;\n",
       "}\n",
       "#T_db8cd_row7_col4 {\n",
       "  background-color: #bb1b2c;\n",
       "  color: #f1f1f1;\n",
       "}\n",
       "#T_db8cd_row7_col5 {\n",
       "  background-color: #f59d7e;\n",
       "  color: #000000;\n",
       "}\n",
       "#T_db8cd_row7_col8, #T_db8cd_row8_col7 {\n",
       "  background-color: #c12b30;\n",
       "  color: #f1f1f1;\n",
       "}\n",
       "#T_db8cd_row8_col0 {\n",
       "  background-color: #3f53c6;\n",
       "  color: #f1f1f1;\n",
       "}\n",
       "#T_db8cd_row8_col1 {\n",
       "  background-color: #7da0f9;\n",
       "  color: #f1f1f1;\n",
       "}\n",
       "#T_db8cd_row8_col2, #T_db8cd_row8_col5 {\n",
       "  background-color: #f2cab5;\n",
       "  color: #000000;\n",
       "}\n",
       "#T_db8cd_row8_col3 {\n",
       "  background-color: #4a63d3;\n",
       "  color: #f1f1f1;\n",
       "}\n",
       "#T_db8cd_row8_col4 {\n",
       "  background-color: #cb3e38;\n",
       "  color: #f1f1f1;\n",
       "}\n",
       "#T_db8cd_row8_col6 {\n",
       "  background-color: #7396f5;\n",
       "  color: #f1f1f1;\n",
       "}\n",
       "</style>\n",
       "<table id=\"T_db8cd\">\n",
       "  <thead>\n",
       "    <tr>\n",
       "      <th class=\"blank level0\" >&nbsp;</th>\n",
       "      <th id=\"T_db8cd_level0_col0\" class=\"col_heading level0 col0\" >age</th>\n",
       "      <th id=\"T_db8cd_level0_col1\" class=\"col_heading level0 col1\" >campaign</th>\n",
       "      <th id=\"T_db8cd_level0_col2\" class=\"col_heading level0 col2\" >pdays</th>\n",
       "      <th id=\"T_db8cd_level0_col3\" class=\"col_heading level0 col3\" >previous</th>\n",
       "      <th id=\"T_db8cd_level0_col4\" class=\"col_heading level0 col4\" >emp.var.rate</th>\n",
       "      <th id=\"T_db8cd_level0_col5\" class=\"col_heading level0 col5\" >cons.price.idx</th>\n",
       "      <th id=\"T_db8cd_level0_col6\" class=\"col_heading level0 col6\" >cons.conf.idx</th>\n",
       "      <th id=\"T_db8cd_level0_col7\" class=\"col_heading level0 col7\" >euribor3m</th>\n",
       "      <th id=\"T_db8cd_level0_col8\" class=\"col_heading level0 col8\" >nr.employed</th>\n",
       "    </tr>\n",
       "  </thead>\n",
       "  <tbody>\n",
       "    <tr>\n",
       "      <th id=\"T_db8cd_level0_row0\" class=\"row_heading level0 row0\" >age</th>\n",
       "      <td id=\"T_db8cd_row0_col0\" class=\"data row0 col0\" >1.000000</td>\n",
       "      <td id=\"T_db8cd_row0_col1\" class=\"data row0 col1\" >0.004594</td>\n",
       "      <td id=\"T_db8cd_row0_col2\" class=\"data row0 col2\" >-0.034369</td>\n",
       "      <td id=\"T_db8cd_row0_col3\" class=\"data row0 col3\" >0.024365</td>\n",
       "      <td id=\"T_db8cd_row0_col4\" class=\"data row0 col4\" >-0.000371</td>\n",
       "      <td id=\"T_db8cd_row0_col5\" class=\"data row0 col5\" >0.000857</td>\n",
       "      <td id=\"T_db8cd_row0_col6\" class=\"data row0 col6\" >0.129372</td>\n",
       "      <td id=\"T_db8cd_row0_col7\" class=\"data row0 col7\" >0.010767</td>\n",
       "      <td id=\"T_db8cd_row0_col8\" class=\"data row0 col8\" >-0.017725</td>\n",
       "    </tr>\n",
       "    <tr>\n",
       "      <th id=\"T_db8cd_level0_row1\" class=\"row_heading level0 row1\" >campaign</th>\n",
       "      <td id=\"T_db8cd_row1_col0\" class=\"data row1 col0\" >0.004594</td>\n",
       "      <td id=\"T_db8cd_row1_col1\" class=\"data row1 col1\" >1.000000</td>\n",
       "      <td id=\"T_db8cd_row1_col2\" class=\"data row1 col2\" >0.052584</td>\n",
       "      <td id=\"T_db8cd_row1_col3\" class=\"data row1 col3\" >-0.079141</td>\n",
       "      <td id=\"T_db8cd_row1_col4\" class=\"data row1 col4\" >0.150754</td>\n",
       "      <td id=\"T_db8cd_row1_col5\" class=\"data row1 col5\" >0.127836</td>\n",
       "      <td id=\"T_db8cd_row1_col6\" class=\"data row1 col6\" >-0.013733</td>\n",
       "      <td id=\"T_db8cd_row1_col7\" class=\"data row1 col7\" >0.135133</td>\n",
       "      <td id=\"T_db8cd_row1_col8\" class=\"data row1 col8\" >0.144095</td>\n",
       "    </tr>\n",
       "    <tr>\n",
       "      <th id=\"T_db8cd_level0_row2\" class=\"row_heading level0 row2\" >pdays</th>\n",
       "      <td id=\"T_db8cd_row2_col0\" class=\"data row2 col0\" >-0.034369</td>\n",
       "      <td id=\"T_db8cd_row2_col1\" class=\"data row2 col1\" >0.052584</td>\n",
       "      <td id=\"T_db8cd_row2_col2\" class=\"data row2 col2\" >1.000000</td>\n",
       "      <td id=\"T_db8cd_row2_col3\" class=\"data row2 col3\" >-0.587514</td>\n",
       "      <td id=\"T_db8cd_row2_col4\" class=\"data row2 col4\" >0.271004</td>\n",
       "      <td id=\"T_db8cd_row2_col5\" class=\"data row2 col5\" >0.078889</td>\n",
       "      <td id=\"T_db8cd_row2_col6\" class=\"data row2 col6\" >-0.091342</td>\n",
       "      <td id=\"T_db8cd_row2_col7\" class=\"data row2 col7\" >0.296899</td>\n",
       "      <td id=\"T_db8cd_row2_col8\" class=\"data row2 col8\" >0.372605</td>\n",
       "    </tr>\n",
       "    <tr>\n",
       "      <th id=\"T_db8cd_level0_row3\" class=\"row_heading level0 row3\" >previous</th>\n",
       "      <td id=\"T_db8cd_row3_col0\" class=\"data row3 col0\" >0.024365</td>\n",
       "      <td id=\"T_db8cd_row3_col1\" class=\"data row3 col1\" >-0.079141</td>\n",
       "      <td id=\"T_db8cd_row3_col2\" class=\"data row3 col2\" >-0.587514</td>\n",
       "      <td id=\"T_db8cd_row3_col3\" class=\"data row3 col3\" >1.000000</td>\n",
       "      <td id=\"T_db8cd_row3_col4\" class=\"data row3 col4\" >-0.420489</td>\n",
       "      <td id=\"T_db8cd_row3_col5\" class=\"data row3 col5\" >-0.203130</td>\n",
       "      <td id=\"T_db8cd_row3_col6\" class=\"data row3 col6\" >-0.050936</td>\n",
       "      <td id=\"T_db8cd_row3_col7\" class=\"data row3 col7\" >-0.454494</td>\n",
       "      <td id=\"T_db8cd_row3_col8\" class=\"data row3 col8\" >-0.501333</td>\n",
       "    </tr>\n",
       "    <tr>\n",
       "      <th id=\"T_db8cd_level0_row4\" class=\"row_heading level0 row4\" >emp.var.rate</th>\n",
       "      <td id=\"T_db8cd_row4_col0\" class=\"data row4 col0\" >-0.000371</td>\n",
       "      <td id=\"T_db8cd_row4_col1\" class=\"data row4 col1\" >0.150754</td>\n",
       "      <td id=\"T_db8cd_row4_col2\" class=\"data row4 col2\" >0.271004</td>\n",
       "      <td id=\"T_db8cd_row4_col3\" class=\"data row4 col3\" >-0.420489</td>\n",
       "      <td id=\"T_db8cd_row4_col4\" class=\"data row4 col4\" >1.000000</td>\n",
       "      <td id=\"T_db8cd_row4_col5\" class=\"data row4 col5\" >0.775334</td>\n",
       "      <td id=\"T_db8cd_row4_col6\" class=\"data row4 col6\" >0.196041</td>\n",
       "      <td id=\"T_db8cd_row4_col7\" class=\"data row4 col7\" >0.972245</td>\n",
       "      <td id=\"T_db8cd_row4_col8\" class=\"data row4 col8\" >0.906970</td>\n",
       "    </tr>\n",
       "    <tr>\n",
       "      <th id=\"T_db8cd_level0_row5\" class=\"row_heading level0 row5\" >cons.price.idx</th>\n",
       "      <td id=\"T_db8cd_row5_col0\" class=\"data row5 col0\" >0.000857</td>\n",
       "      <td id=\"T_db8cd_row5_col1\" class=\"data row5 col1\" >0.127836</td>\n",
       "      <td id=\"T_db8cd_row5_col2\" class=\"data row5 col2\" >0.078889</td>\n",
       "      <td id=\"T_db8cd_row5_col3\" class=\"data row5 col3\" >-0.203130</td>\n",
       "      <td id=\"T_db8cd_row5_col4\" class=\"data row5 col4\" >0.775334</td>\n",
       "      <td id=\"T_db8cd_row5_col5\" class=\"data row5 col5\" >1.000000</td>\n",
       "      <td id=\"T_db8cd_row5_col6\" class=\"data row5 col6\" >0.058986</td>\n",
       "      <td id=\"T_db8cd_row5_col7\" class=\"data row5 col7\" >0.688230</td>\n",
       "      <td id=\"T_db8cd_row5_col8\" class=\"data row5 col8\" >0.522034</td>\n",
       "    </tr>\n",
       "    <tr>\n",
       "      <th id=\"T_db8cd_level0_row6\" class=\"row_heading level0 row6\" >cons.conf.idx</th>\n",
       "      <td id=\"T_db8cd_row6_col0\" class=\"data row6 col0\" >0.129372</td>\n",
       "      <td id=\"T_db8cd_row6_col1\" class=\"data row6 col1\" >-0.013733</td>\n",
       "      <td id=\"T_db8cd_row6_col2\" class=\"data row6 col2\" >-0.091342</td>\n",
       "      <td id=\"T_db8cd_row6_col3\" class=\"data row6 col3\" >-0.050936</td>\n",
       "      <td id=\"T_db8cd_row6_col4\" class=\"data row6 col4\" >0.196041</td>\n",
       "      <td id=\"T_db8cd_row6_col5\" class=\"data row6 col5\" >0.058986</td>\n",
       "      <td id=\"T_db8cd_row6_col6\" class=\"data row6 col6\" >1.000000</td>\n",
       "      <td id=\"T_db8cd_row6_col7\" class=\"data row6 col7\" >0.277686</td>\n",
       "      <td id=\"T_db8cd_row6_col8\" class=\"data row6 col8\" >0.100513</td>\n",
       "    </tr>\n",
       "    <tr>\n",
       "      <th id=\"T_db8cd_level0_row7\" class=\"row_heading level0 row7\" >euribor3m</th>\n",
       "      <td id=\"T_db8cd_row7_col0\" class=\"data row7 col0\" >0.010767</td>\n",
       "      <td id=\"T_db8cd_row7_col1\" class=\"data row7 col1\" >0.135133</td>\n",
       "      <td id=\"T_db8cd_row7_col2\" class=\"data row7 col2\" >0.296899</td>\n",
       "      <td id=\"T_db8cd_row7_col3\" class=\"data row7 col3\" >-0.454494</td>\n",
       "      <td id=\"T_db8cd_row7_col4\" class=\"data row7 col4\" >0.972245</td>\n",
       "      <td id=\"T_db8cd_row7_col5\" class=\"data row7 col5\" >0.688230</td>\n",
       "      <td id=\"T_db8cd_row7_col6\" class=\"data row7 col6\" >0.277686</td>\n",
       "      <td id=\"T_db8cd_row7_col7\" class=\"data row7 col7\" >1.000000</td>\n",
       "      <td id=\"T_db8cd_row7_col8\" class=\"data row7 col8\" >0.945154</td>\n",
       "    </tr>\n",
       "    <tr>\n",
       "      <th id=\"T_db8cd_level0_row8\" class=\"row_heading level0 row8\" >nr.employed</th>\n",
       "      <td id=\"T_db8cd_row8_col0\" class=\"data row8 col0\" >-0.017725</td>\n",
       "      <td id=\"T_db8cd_row8_col1\" class=\"data row8 col1\" >0.144095</td>\n",
       "      <td id=\"T_db8cd_row8_col2\" class=\"data row8 col2\" >0.372605</td>\n",
       "      <td id=\"T_db8cd_row8_col3\" class=\"data row8 col3\" >-0.501333</td>\n",
       "      <td id=\"T_db8cd_row8_col4\" class=\"data row8 col4\" >0.906970</td>\n",
       "      <td id=\"T_db8cd_row8_col5\" class=\"data row8 col5\" >0.522034</td>\n",
       "      <td id=\"T_db8cd_row8_col6\" class=\"data row8 col6\" >0.100513</td>\n",
       "      <td id=\"T_db8cd_row8_col7\" class=\"data row8 col7\" >0.945154</td>\n",
       "      <td id=\"T_db8cd_row8_col8\" class=\"data row8 col8\" >1.000000</td>\n",
       "    </tr>\n",
       "  </tbody>\n",
       "</table>\n"
      ],
      "text/plain": [
       "<pandas.io.formats.style.Styler at 0x7fe4880e14c0>"
      ]
     },
     "execution_count": 238,
     "metadata": {},
     "output_type": "execute_result"
    }
   ],
   "source": [
    "print(df.columns)\n",
    "df.corr().style.background_gradient(cmap='coolwarm')"
   ]
  },
  {
   "cell_type": "markdown",
   "id": "3f162454",
   "metadata": {},
   "source": [
    "### 7. Comente qué variable escogerán como variable dependiente Y y qué variables introducirán a su modelo de Regresión Logística como variables explicativas. Justifique su respuesta"
   ]
  },
  {
   "cell_type": "markdown",
   "id": "ace08ff7",
   "metadata": {},
   "source": [
    "Como varible dependiente escogere a y - ¿El cliente ha suscrito un depósito a plazo? (binario: 'sí', 'no').\n",
    "Ya que justamente el objetivo de esta base de datos fue para realizar un modelo predictivo que permita predecir si un cliente realizo un deposito a plazo. Ademas las categorias Si y no son de igual importancia lo cual es un candidato exelente para la regrecion logistica."
   ]
  },
  {
   "cell_type": "markdown",
   "id": "f08ff87c",
   "metadata": {},
   "source": [
    "### 8. Grabe el primer modelo de regresión y otórguele el alias de su preferencia. Comente los resultados del modelo, por ejemplo: \n",
    "- ¿Bajo cuántos datos fue obtenido el modelo? \n",
    "- ¿Cuál es su grado de ajuste?, \n",
    "- ¿Hay variables significativas? \n",
    "- ¿Cuáles son las variables no- significativas? Para esta última pregunta por favor aplique un contraste de hipótesis sobre los estimadores"
   ]
  },
  {
   "cell_type": "code",
   "execution_count": 239,
   "id": "6e26994d",
   "metadata": {},
   "outputs": [],
   "source": [
    "from sklearn.preprocessing import LabelEncoder\n"
   ]
  },
  {
   "cell_type": "code",
   "execution_count": 240,
   "id": "e0b82b1a",
   "metadata": {},
   "outputs": [],
   "source": [
    "labelencoder = LabelEncoder()\n",
    "df[cat_field]=df[cat_field ].apply(LabelEncoder().fit_transform)"
   ]
  },
  {
   "cell_type": "code",
   "execution_count": 241,
   "metadata": {},
   "outputs": [
    {
     "name": "stdout",
     "output_type": "stream",
     "text": [
      "\n",
      "Optimization terminated successfully.\n",
      "         Current function value: 0.280979\n",
      "         Iterations 7\n",
      "                           Logit Regression Results                           \n",
      "==============================================================================\n",
      "Dep. Variable:                      y   No. Observations:                41188\n",
      "Model:                          Logit   Df Residuals:                    41171\n",
      "Method:                           MLE   Df Model:                           16\n",
      "Date:                Tue, 06 Dec 2022   Pseudo R-squ.:                  0.2018\n",
      "Time:                        00:32:32   Log-Likelihood:                -11573.\n",
      "converged:                       True   LL-Null:                       -14499.\n",
      "Covariance Type:            nonrobust   LLR p-value:                     0.000\n",
      "==================================================================================\n",
      "                     coef    std err          z      P>|z|      [0.025      0.975]\n",
      "----------------------------------------------------------------------------------\n",
      "Intercept       -122.5153      4.306    -28.449      0.000    -130.956    -114.075\n",
      "age                0.0043      0.002      2.592      0.010       0.001       0.008\n",
      "job                0.0050      0.005      1.038      0.299      -0.004       0.015\n",
      "marital            0.0940      0.032      2.958      0.003       0.032       0.156\n",
      "education          0.0388      0.009      4.553      0.000       0.022       0.055\n",
      "housing           -0.0135      0.018     -0.755      0.450      -0.048       0.022\n",
      "loan              -0.0162      0.024     -0.661      0.509      -0.064       0.032\n",
      "contact           -0.8687      0.053    -16.412      0.000      -0.972      -0.765\n",
      "month             -0.0645      0.007     -9.274      0.000      -0.078      -0.051\n",
      "day_of_week        0.0599      0.013      4.706      0.000       0.035       0.085\n",
      "campaign          -0.0427      0.009     -4.635      0.000      -0.061      -0.025\n",
      "pdays             -0.0010      0.000     -6.826      0.000      -0.001      -0.001\n",
      "previous          -0.0712      0.052     -1.369      0.171      -0.173       0.031\n",
      "poutcome           0.4425      0.070      6.301      0.000       0.305       0.580\n",
      "emp_var_rate      -0.8026      0.017    -46.763      0.000      -0.836      -0.769\n",
      "cons_price_idx     1.3132      0.047     28.118      0.000       1.222       1.405\n",
      "cons_conf_idx      0.0507      0.003     15.025      0.000       0.044       0.057\n",
      "==================================================================================\n"
     ]
    }
   ],
   "source": [
    "import statsmodels.api as sm\n",
    "import statsmodels.formula.api as sms\n",
    "df['emp_var_rate'] = df['emp.var.rate']\n",
    "df['cons_price_idx'] = df['cons.price.idx']\n",
    "df['cons_conf_idx'] = df['cons.conf.idx']\n",
    "print()\n",
    "regresion = sms.logit(\" y ~ age + job + marital + education +  housing+\\\n",
    "                loan + contact + month + day_of_week + campaign + pdays + previous + poutcome + emp_var_rate + cons_price_idx + cons_conf_idx\", data=df)\n",
    "results = regresion.fit()\n",
    "print(results.summary())\n"
   ]
  },
  {
   "cell_type": "markdown",
   "id": "3815fd0a",
   "metadata": {},
   "source": [
    "Mediante la prueba  P>|z| vemos que existen varios campos cuyos valores son mayores a 0.05. Procedemos a retirarlos ya que bajo esta prueba no son significativos.\n"
   ]
  },
  {
   "cell_type": "code",
   "execution_count": 242,
   "id": "2d3617d2",
   "metadata": {},
   "outputs": [
    {
     "name": "stdout",
     "output_type": "stream",
     "text": [
      "Optimization terminated successfully.\n",
      "         Current function value: 0.281005\n",
      "         Iterations 7\n",
      "                           Logit Regression Results                           \n",
      "==============================================================================\n",
      "Dep. Variable:                      y   No. Observations:                41188\n",
      "Model:                          Logit   Df Residuals:                    41174\n",
      "Method:                           MLE   Df Model:                           13\n",
      "Date:                Tue, 06 Dec 2022   Pseudo R-squ.:                  0.2018\n",
      "Time:                        00:32:32   Log-Likelihood:                -11574.\n",
      "converged:                       True   LL-Null:                       -14499.\n",
      "Covariance Type:            nonrobust   LLR p-value:                     0.000\n",
      "==================================================================================\n",
      "                     coef    std err          z      P>|z|      [0.025      0.975]\n",
      "----------------------------------------------------------------------------------\n",
      "Intercept       -122.6822      4.305    -28.498      0.000    -131.120    -114.245\n",
      "age                0.0043      0.002      2.608      0.009       0.001       0.008\n",
      "marital            0.0950      0.032      2.993      0.003       0.033       0.157\n",
      "education          0.0394      0.008      4.639      0.000       0.023       0.056\n",
      "contact           -0.8681      0.053    -16.415      0.000      -0.972      -0.764\n",
      "month             -0.0646      0.007     -9.288      0.000      -0.078      -0.051\n",
      "day_of_week        0.0597      0.013      4.698      0.000       0.035       0.085\n",
      "campaign          -0.0429      0.009     -4.648      0.000      -0.061      -0.025\n",
      "pdays             -0.0010      0.000     -6.838      0.000      -0.001      -0.001\n",
      "previous          -0.0713      0.052     -1.370      0.171      -0.173       0.031\n",
      "poutcome           0.4420      0.070      6.293      0.000       0.304       0.580\n",
      "emp_var_rate      -0.8029      0.017    -46.788      0.000      -0.836      -0.769\n",
      "cons_price_idx     1.3151      0.047     28.171      0.000       1.224       1.407\n",
      "cons_conf_idx      0.0510      0.003     15.131      0.000       0.044       0.058\n",
      "==================================================================================\n"
     ]
    }
   ],
   "source": [
    "regresion2 = sms.logit(\" y ~ age +  marital + education +  \\\n",
    "                 contact + month + day_of_week + campaign + pdays + previous + poutcome + emp_var_rate + cons_price_idx + cons_conf_idx\", data=df)\n",
    "results2 = regresion2.fit()\n",
    "print(results2.summary())"
   ]
  },
  {
   "cell_type": "markdown",
   "id": "f9c363ed",
   "metadata": {},
   "source": [
    "- ¿Bajo cuantos datos fue obtenido el modelo?\n",
    "\n",
    "No retiramos ninguna fila de la base de datos, por lo tanto se utilizo todos los registros retirando aquellas variables no significativas.\n",
    "\n",
    "\n",
    "- ¿Cuál es su grado de ajuste? \n",
    "\n",
    "El radio de ajuste es de 0.125 lo cual indica que no es un buen modelo.\n",
    "\n",
    "- hay variables significativas\n",
    "\n",
    "Si exsiten variables significativas como es el caso de age, marital, education, etc. Las podemos usar aplicando en P value ya que en estas variables podemos rechazar la hipotesis nula.\n",
    "\n",
    "H0 : β1 = β2 = . . . = βn = 0.\n",
    "\n",
    "- ¿Cuáles son las variables no- significativas? Para esta última pregunta por favor aplique un contraste de hipótesis sobre los estimadores\n",
    "\n",
    "Mediante la prueba  P>|z| vemos que existen varios campos cuyos valores son mayores a 0.05. Se precedio a retirarlos ya que bajo esta prueba no son significativos."
   ]
  },
  {
   "cell_type": "markdown",
   "id": "5bde7736",
   "metadata": {},
   "source": [
    "### 9. Verifique los supuestos de la Regresión Logística. Comente cada uno de ellos"
   ]
  },
  {
   "cell_type": "markdown",
   "id": "82066e3d",
   "metadata": {},
   "source": [
    "1. Variable dependiente categórica binaria\n",
    "\n",
    "Efectivamente la variable escogida si es binaria ( yes , no) en nuestro caso (0 ,1)\n",
    "\n",
    "2. Relación lineal entre el logaritmo natural de odds y la variable continua\n",
    "\n",
    "3. No colinealidad perfecta entre las covariables \n",
    "\n",
    "Podemos apreciar que si existe variables cuyo VIP es mayor a 5. Pero la mayoria de variables son menores a 5, podrimos asumir que no tiene problemas de multicolienaridd"
   ]
  },
  {
   "cell_type": "code",
   "execution_count": 243,
   "id": "9299131f",
   "metadata": {},
   "outputs": [
    {
     "name": "stdout",
     "output_type": "stream",
     "text": [
      "           feature         VIF\n",
      "0              age   19.221399\n",
      "1          marital    5.642071\n",
      "2        education    4.270534\n",
      "3          contact    2.007561\n",
      "4      day_of_week    3.076740\n",
      "5         campaign    1.912405\n",
      "6            pdays  165.417251\n",
      "7         previous    5.699100\n",
      "8         poutcome   33.619709\n",
      "9     emp_var_rate    1.463975\n",
      "10  cons_price_idx  480.948084\n",
      "11   cons_conf_idx   91.632607\n"
     ]
    }
   ],
   "source": [
    "from statsmodels.stats.outliers_influence import variance_inflation_factor\n",
    "var_predictoras= [\"age\" , \"marital\" , \"education\" ,  \"contact\" , \"day_of_week\" , \"campaign\",  \"pdays\" , \"previous\" , \"poutcome\" , \"emp_var_rate\" , \"cons_price_idx\" ,\"cons_conf_idx\"]\n",
    "vif_data = pd.DataFrame()\n",
    "vif_data[\"feature\"] = df[var_predictoras].columns\n",
    "  \n",
    "# Calculamos el VIF por c/variable\n",
    "vif_data[\"VIF\"] = [variance_inflation_factor(df[var_predictoras].values, i) for i in range(len(df[var_predictoras].columns))]\n",
    "\n",
    "print(vif_data)\n",
    "\n"
   ]
  },
  {
   "cell_type": "markdown",
   "id": "56dac48d",
   "metadata": {},
   "source": [
    "### 10. Obtenga el modelo de Regresión Logística definitivo, argumente su respuesta e interprete los coeficientes"
   ]
  },
  {
   "cell_type": "markdown",
   "id": "47977f6d",
   "metadata": {},
   "source": [
    "La regresión logística definitiva será la almacenada en results2. Ya que tras eliminar algunos valores con la prueba P>|z|  el  Pseudo R-squ, aumentó ligeramente. A pesar que los valores de cons_price_idx y cons_conf_idx son muy altos el VIF. Mantuvimos estos campos ya que contribuyen a la precisión del sistema."
   ]
  },
  {
   "cell_type": "code",
   "execution_count": 244,
   "id": "27285ae9",
   "metadata": {},
   "outputs": [
    {
     "data": {
      "text/plain": [
       "<AxesSubplot:xlabel='previous', ylabel='y'>"
      ]
     },
     "execution_count": 244,
     "metadata": {},
     "output_type": "execute_result"
    },
    {
     "data": {
      "image/png": "[encoded data removed]",
      "text/plain": [
       "<Figure size 432x288 with 1 Axes>"
      ]
     },
     "metadata": {
      "needs_background": "light"
     },
     "output_type": "display_data"
    }
   ],
   "source": [
    "y_pred = results2.predict()\n",
    "sns.regplot(x=df.previous, y=df.y, data=df, logistic=True, ci=None)"
   ]
  },
  {
   "cell_type": "markdown",
   "id": "a186d803",
   "metadata": {},
   "source": [
    "### Bonus: Grafique a los valores predicho del modelo vs los valores reales\n",
    "- ¿Cómo se ven una vez graficados frente a los valores reales? Argumente su respusta.\n"
   ]
  },
  {
   "cell_type": "code",
   "execution_count": 245,
   "id": "048e1052",
   "metadata": {},
   "outputs": [
    {
     "name": "stdout",
     "output_type": "stream",
     "text": [
      "0        0\n",
      "1        0\n",
      "2        0\n",
      "3        0\n",
      "4        0\n",
      "        ..\n",
      "41183    1\n",
      "41184    0\n",
      "41185    0\n",
      "41186    1\n",
      "41187    0\n",
      "Name: y, Length: 41188, dtype: int64\n",
      "0        0.036427\n",
      "1        0.040977\n",
      "2        0.037711\n",
      "3        0.035396\n",
      "4        0.040808\n",
      "           ...   \n",
      "41183    0.447100\n",
      "41184    0.418455\n",
      "41185    0.428153\n",
      "41186    0.416353\n",
      "41187    0.308516\n",
      "Length: 41188, dtype: float64\n"
     ]
    },
    {
     "data": {
      "image/png": "[encoded data removed]",
      "text/plain": [
       "<Figure size 432x288 with 1 Axes>"
      ]
     },
     "metadata": {
      "needs_background": "light"
     },
     "output_type": "display_data"
    }
   ],
   "source": [
    "y_pred=results2.predict(df)\n",
    "y= df['y']\n",
    "print(y)\n",
    "print(y_pred)\n",
    "x= range(len(y))\n",
    "plt.plot(x, y, 'ro',label = \"valores reales\")\n",
    "plt.plot(x, y_pred, 'go', label = \"valores predichos\")\n",
    "plt.legend()\n",
    "plt.show()"
   ]
  },
  {
   "cell_type": "code",
   "execution_count": 246,
   "id": "3628bd19",
   "metadata": {},
   "outputs": [
    {
     "name": "stdout",
     "output_type": "stream",
     "text": [
      "[[36073.   475.]\n",
      " [ 3632.  1008.]]\n",
      "Accuracy: 0.9002864912110323\n"
     ]
    }
   ],
   "source": [
    "t = results2.pred_table()\n",
    "print(t)\n",
    "print(\"Accuracy:\",np.diag(t).sum()/t.sum())"
   ]
  },
  {
   "cell_type": "markdown",
   "id": "d1f6c17d",
   "metadata": {},
   "source": [
    " "
   ]
  },
  {
   "cell_type": "markdown",
   "id": "cb7f5ae6",
   "metadata": {},
   "source": [
    "Con los resultados obtenidos por la matriz de confucion se puede concluir que el modelo es aceptable. El porcentaje de aciertos es del 90%. Esto nos dice que del total de observaciones en el modelo, el modelo predijo correctamente la clase correspondiente el 90 % de las veces. Obteniendo un total de 36073+1008  (Tp+Tn) valores predichos correctamente. "
   ]
  },
  {
   "cell_type": "markdown",
   "id": "c45933e5",
   "metadata": {},
   "source": []
  }
 ],
 "metadata": {
  "interpreter": {
   "hash": "c629e06671d42d262ce370bbb00ab382667744bfebe13cb1c7262c94987f6270"
  },
  "kernelspec": {
   "display_name": "Python 3.9.12 ('base')",
   "language": "python",
   "name": "python3"
  },
  "language_info": {
   "codemirror_mode": {
    "name": "ipython",
    "version": 3
   },
   "file_extension": ".py",
   "mimetype": "text/x-python",
   "name": "python",
   "nbconvert_exporter": "python",
   "pygments_lexer": "ipython3",
   "version": "3.9.12"
  }
 },
 "nbformat": 4,
 "nbformat_minor": 5
}
